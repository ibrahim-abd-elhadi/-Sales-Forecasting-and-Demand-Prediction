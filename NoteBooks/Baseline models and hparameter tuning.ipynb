{
  "nbformat": 4,
  "nbformat_minor": 0,
  "metadata": {
    "colab": {
      "provenance": []
    },
    "kernelspec": {
      "name": "python3",
      "display_name": "Python 3"
    },
    "language_info": {
      "name": "python"
    }
  },
  "cells": [
    {
      "cell_type": "code",
      "execution_count": 3,
      "metadata": {
        "id": "ml7-nP9Hk4-t"
      },
      "outputs": [],
      "source": [
        "import pandas as pd\n",
        "import numpy as np\n",
        "import os\n",
        "import gc\n",
        "import warnings\n",
        "import dask.dataframe as dd\n",
        "from sklearn.preprocessing import LabelEncoder, StandardScaler, RobustScaler, MinMaxScaler\n",
        "from sklearn.impute import SimpleImputer\n",
        "from sklearn.model_selection import train_test_split\n",
        "\n",
        "warnings.filterwarnings('ignore')\n",
        "pd.set_option('display.max_columns', None)\n",
        "pd.set_option('display.float_format', '{:.2f}'.format)\n",
        "\n",
        "parquet_files = [f'/content/{f}' for f in os.listdir('/content') if f.startswith('part-') and f.endswith('.snappy.parquet')]\n",
        "df_combined = pd.concat([pd.read_parquet(file) for file in parquet_files], ignore_index=True)\n",
        "df_combined.to_parquet('/content/sales_All_data_final_grouped.parquet', index=False)"
      ]
    },
    {
      "cell_type": "code",
      "source": [
        "df = dd.read_parquet('/content/sales_All_data_final_grouped.parquet', engine=\"pyarrow\")"
      ],
      "metadata": {
        "id": "hKeRyluilG0_"
      },
      "execution_count": 4,
      "outputs": []
    },
    {
      "cell_type": "code",
      "source": [
        "df['year'] = df['date'].dt.year.astype('int16')\n",
        "df['month'] = df['date'].dt.month.astype('int8')\n",
        "df['day'] = df['date'].dt.day.astype('int8')\n",
        "df['dayofweek'] = df['date'].dt.dayofweek.astype('int8')\n",
        "df['quarter'] = df['date'].dt.quarter.astype('int8')\n",
        "df['is_weekend'] = df['date'].dt.dayofweek.isin([5, 6])\n",
        "df['days_in_month'] = df['date'].dt.days_in_month.astype('int8')\n",
        "df['day_of_year'] = df['date'].dt.dayofyear.astype('int16')\n",
        "df['week_of_year'] = df['date'].dt.isocalendar().week.astype('int8')"
      ],
      "metadata": {
        "id": "D8PD4OR4lQnY"
      },
      "execution_count": 5,
      "outputs": []
    },
    {
      "cell_type": "code",
      "source": [
        "df = df.compute()\n",
        "gc.collect()"
      ],
      "metadata": {
        "colab": {
          "base_uri": "https://localhost:8080/"
        },
        "id": "SSI_O2uFlScP",
        "outputId": "fd1c5369-42cb-4d45-f290-e3b5ab731f5c"
      },
      "execution_count": 6,
      "outputs": [
        {
          "output_type": "execute_result",
          "data": {
            "text/plain": [
              "48"
            ]
          },
          "metadata": {},
          "execution_count": 6
        }
      ]
    },
    {
      "cell_type": "code",
      "source": [
        "def count_outliers_iqr(df):\n",
        "    outlier_counts = {}\n",
        "    numeric_cols = df.select_dtypes(include=['int', 'float']).columns\n",
        "    for col in numeric_cols:\n",
        "        Q1 = df[col].quantile(0.25)\n",
        "        Q3 = df[col].quantile(0.75)\n",
        "        IQR = Q3 - Q1\n",
        "        lower_bound = Q1 - 1.5 * IQR\n",
        "        upper_bound = Q3 + 1.5 * IQR\n",
        "        outliers = ((df[col] < lower_bound) | (df[col] > upper_bound)).sum()\n",
        "        outlier_counts[col] = outliers\n",
        "    return pd.Series(outlier_counts).sort_values(ascending=False)"
      ],
      "metadata": {
        "id": "EZm_3pTYnGLG"
      },
      "execution_count": 7,
      "outputs": []
    },
    {
      "cell_type": "code",
      "source": [
        "outlier_summary = count_outliers_iqr(df)\n",
        "print(outlier_summary)"
      ],
      "metadata": {
        "colab": {
          "base_uri": "https://localhost:8080/"
        },
        "id": "Fg6yoxyKnYED",
        "outputId": "37ecba65-1a00-4ca0-8873-0a73072bf1f1"
      },
      "execution_count": 8,
      "outputs": [
        {
          "output_type": "stream",
          "name": "stdout",
          "text": [
            "unit_sales       278422\n",
            "transactions     274700\n",
            "oil_price        192508\n",
            "precipitation    109064\n",
            "temperature       32161\n",
            "store_nbr             0\n",
            "dtype: int64\n"
          ]
        }
      ]
    },
    {
      "cell_type": "code",
      "source": [
        "df = df.astype({\n",
        "    'store_nbr': 'int8',\n",
        "    'onpromotion': 'bool',\n",
        "    'perishable': 'bool',\n",
        "    'transactions': 'float32',\n",
        "    'oil_price': 'float32',\n",
        "    'temperature': 'float32',\n",
        "    'precipitation': 'float32',\n",
        "    'year': 'int16',\n",
        "    'month': 'int8',\n",
        "    'day': 'int8',\n",
        "    'dayofweek': 'int8',\n",
        "    'quarter': 'int8',\n",
        "    'is_weekend': 'bool',\n",
        "    'days_in_month': 'int8',\n",
        "    'day_of_year': 'int16',\n",
        "    'week_of_year': 'int8'\n",
        "}, errors='ignore')"
      ],
      "metadata": {
        "id": "uo1HQVjOlV3-"
      },
      "execution_count": 9,
      "outputs": []
    },
    {
      "cell_type": "code",
      "source": [
        "categorical_cols = df.select_dtypes(include=['object', 'category', 'string[pyarrow]', 'bool']).columns.tolist()"
      ],
      "metadata": {
        "id": "ioFggcamlbNn"
      },
      "execution_count": 10,
      "outputs": []
    },
    {
      "cell_type": "code",
      "source": [
        "print(df['Event Scale'].value_counts())\n",
        "print(df['locale_name'].value_counts())"
      ],
      "metadata": {
        "colab": {
          "base_uri": "https://localhost:8080/"
        },
        "id": "HvoEzE9Cogph",
        "outputId": "1c32c753-7839-4458-dff2-07386fa9ad44"
      },
      "execution_count": 11,
      "outputs": [
        {
          "output_type": "stream",
          "name": "stdout",
          "text": [
            "Event Scale\n",
            "Non         1760124\n",
            "National     160542\n",
            "Local        122698\n",
            "Regional      18539\n",
            "Name: count, dtype: int64[pyarrow]\n",
            "locale_name\n",
            "Non                               1760124\n",
            "Ecuador                            160542\n",
            "Riobamba                            12024\n",
            "Guayaquil                           11560\n",
            "Guaranda                            11118\n",
            "Quito                               10308\n",
            "Ambato                               9727\n",
            "El Carmen                            6534\n",
            "Cayambe                              6470\n",
            "Manta                                6218\n",
            "Esmeraldas                           6148\n",
            "Latacunga                            5904\n",
            "Puyo                                 5856\n",
            "Cotopaxi                             5846\n",
            "Cuenca                               5826\n",
            "Libertad                             5780\n",
            "Santo Domingo de los Tsachilas       5127\n",
            "Santa Elena                          5127\n",
            "Loja                                 5099\n",
            "Ibarra                               5003\n",
            "Quevedo                              4993\n",
            "Machala                              2801\n",
            "Imbabura                             2439\n",
            "Salinas                              1329\n",
            "Name: count, dtype: int64[pyarrow]\n"
          ]
        }
      ]
    },
    {
      "cell_type": "code",
      "source": [
        "for col in categorical_cols:\n",
        "    if df[col].nunique() <= 10:\n",
        "        dummies = pd.get_dummies(df[col], prefix=col, drop_first=True, dtype='bool')\n",
        "        df = pd.concat([df.drop(columns=col), dummies], axis=1)\n",
        "    else:\n",
        "        le = LabelEncoder()\n",
        "        df[col] = le.fit_transform(df[col].astype(str))\n",
        "        df[col] = df[col].astype('int8')"
      ],
      "metadata": {
        "id": "jmTon8oLq4f_"
      },
      "execution_count": 12,
      "outputs": []
    },
    {
      "cell_type": "code",
      "source": [
        "df.head()"
      ],
      "metadata": {
        "colab": {
          "base_uri": "https://localhost:8080/",
          "height": 330
        },
        "id": "oDGoRSGtrVTc",
        "outputId": "10ffa1fa-84a3-4785-ab05-4ef5867177f3"
      },
      "execution_count": 13,
      "outputs": [
        {
          "output_type": "execute_result",
          "data": {
            "text/plain": [
              "        date  store_nbr  family  unit_sales  city  state  transactions  \\\n",
              "0 2016-02-18         27       0        6.00     4      6       7030.00   \n",
              "1 2016-02-18         27      25      194.00     4      6      94202.00   \n",
              "2 2016-02-18         27      15       10.00     4      6       8436.00   \n",
              "3 2016-02-18         27       2        3.00     4      6       2812.00   \n",
              "4 2016-02-18         27      18      160.00     4      6      67488.00   \n",
              "\n",
              "   oil_price  locale_name  temperature  precipitation  year  month  day  \\\n",
              "0      30.77           16        26.30          11.80  2016      2   18   \n",
              "1      30.77           16        26.30          11.80  2016      2   18   \n",
              "2      30.77           16        26.30          11.80  2016      2   18   \n",
              "3      30.77           16        26.30          11.80  2016      2   18   \n",
              "4      30.77           16        26.30          11.80  2016      2   18   \n",
              "\n",
              "   dayofweek  quarter  days_in_month  day_of_year  week_of_year  \\\n",
              "0          3        1             29           49             7   \n",
              "1          3        1             29           49             7   \n",
              "2          3        1             29           49             7   \n",
              "3          3        1             29           49             7   \n",
              "4          3        1             29           49             7   \n",
              "\n",
              "   onpromotion_True  store_type_B  store_type_C  store_type_D  store_type_E  \\\n",
              "0             False         False         False          True         False   \n",
              "1             False         False         False          True         False   \n",
              "2             False         False         False          True         False   \n",
              "3             False         False         False          True         False   \n",
              "4             False         False         False          True         False   \n",
              "\n",
              "   perishable_True  day_type_Bridge  day_type_Event  day_type_Holiday  \\\n",
              "0            False            False           False             False   \n",
              "1            False            False           False             False   \n",
              "2            False            False           False             False   \n",
              "3            False            False           False             False   \n",
              "4            False            False           False             False   \n",
              "\n",
              "   day_type_Transfer  day_type_Work Day  Event Scale_National  \\\n",
              "0              False               True                 False   \n",
              "1              False               True                 False   \n",
              "2              False               True                 False   \n",
              "3              False               True                 False   \n",
              "4              False               True                 False   \n",
              "\n",
              "   Event Scale_Non  Event Scale_Regional  is_weekend_True  \n",
              "0             True                 False            False  \n",
              "1             True                 False            False  \n",
              "2             True                 False            False  \n",
              "3             True                 False            False  \n",
              "4             True                 False            False  "
            ],
            "text/html": [
              "\n",
              "  <div id=\"df-d75ce6d7-c789-467d-b4f1-7df32c0b6755\" class=\"colab-df-container\">\n",
              "    <div>\n",
              "<style scoped>\n",
              "    .dataframe tbody tr th:only-of-type {\n",
              "        vertical-align: middle;\n",
              "    }\n",
              "\n",
              "    .dataframe tbody tr th {\n",
              "        vertical-align: top;\n",
              "    }\n",
              "\n",
              "    .dataframe thead th {\n",
              "        text-align: right;\n",
              "    }\n",
              "</style>\n",
              "<table border=\"1\" class=\"dataframe\">\n",
              "  <thead>\n",
              "    <tr style=\"text-align: right;\">\n",
              "      <th></th>\n",
              "      <th>date</th>\n",
              "      <th>store_nbr</th>\n",
              "      <th>family</th>\n",
              "      <th>unit_sales</th>\n",
              "      <th>city</th>\n",
              "      <th>state</th>\n",
              "      <th>transactions</th>\n",
              "      <th>oil_price</th>\n",
              "      <th>locale_name</th>\n",
              "      <th>temperature</th>\n",
              "      <th>precipitation</th>\n",
              "      <th>year</th>\n",
              "      <th>month</th>\n",
              "      <th>day</th>\n",
              "      <th>dayofweek</th>\n",
              "      <th>quarter</th>\n",
              "      <th>days_in_month</th>\n",
              "      <th>day_of_year</th>\n",
              "      <th>week_of_year</th>\n",
              "      <th>onpromotion_True</th>\n",
              "      <th>store_type_B</th>\n",
              "      <th>store_type_C</th>\n",
              "      <th>store_type_D</th>\n",
              "      <th>store_type_E</th>\n",
              "      <th>perishable_True</th>\n",
              "      <th>day_type_Bridge</th>\n",
              "      <th>day_type_Event</th>\n",
              "      <th>day_type_Holiday</th>\n",
              "      <th>day_type_Transfer</th>\n",
              "      <th>day_type_Work Day</th>\n",
              "      <th>Event Scale_National</th>\n",
              "      <th>Event Scale_Non</th>\n",
              "      <th>Event Scale_Regional</th>\n",
              "      <th>is_weekend_True</th>\n",
              "    </tr>\n",
              "  </thead>\n",
              "  <tbody>\n",
              "    <tr>\n",
              "      <th>0</th>\n",
              "      <td>2016-02-18</td>\n",
              "      <td>27</td>\n",
              "      <td>0</td>\n",
              "      <td>6.00</td>\n",
              "      <td>4</td>\n",
              "      <td>6</td>\n",
              "      <td>7030.00</td>\n",
              "      <td>30.77</td>\n",
              "      <td>16</td>\n",
              "      <td>26.30</td>\n",
              "      <td>11.80</td>\n",
              "      <td>2016</td>\n",
              "      <td>2</td>\n",
              "      <td>18</td>\n",
              "      <td>3</td>\n",
              "      <td>1</td>\n",
              "      <td>29</td>\n",
              "      <td>49</td>\n",
              "      <td>7</td>\n",
              "      <td>False</td>\n",
              "      <td>False</td>\n",
              "      <td>False</td>\n",
              "      <td>True</td>\n",
              "      <td>False</td>\n",
              "      <td>False</td>\n",
              "      <td>False</td>\n",
              "      <td>False</td>\n",
              "      <td>False</td>\n",
              "      <td>False</td>\n",
              "      <td>True</td>\n",
              "      <td>False</td>\n",
              "      <td>True</td>\n",
              "      <td>False</td>\n",
              "      <td>False</td>\n",
              "    </tr>\n",
              "    <tr>\n",
              "      <th>1</th>\n",
              "      <td>2016-02-18</td>\n",
              "      <td>27</td>\n",
              "      <td>25</td>\n",
              "      <td>194.00</td>\n",
              "      <td>4</td>\n",
              "      <td>6</td>\n",
              "      <td>94202.00</td>\n",
              "      <td>30.77</td>\n",
              "      <td>16</td>\n",
              "      <td>26.30</td>\n",
              "      <td>11.80</td>\n",
              "      <td>2016</td>\n",
              "      <td>2</td>\n",
              "      <td>18</td>\n",
              "      <td>3</td>\n",
              "      <td>1</td>\n",
              "      <td>29</td>\n",
              "      <td>49</td>\n",
              "      <td>7</td>\n",
              "      <td>False</td>\n",
              "      <td>False</td>\n",
              "      <td>False</td>\n",
              "      <td>True</td>\n",
              "      <td>False</td>\n",
              "      <td>False</td>\n",
              "      <td>False</td>\n",
              "      <td>False</td>\n",
              "      <td>False</td>\n",
              "      <td>False</td>\n",
              "      <td>True</td>\n",
              "      <td>False</td>\n",
              "      <td>True</td>\n",
              "      <td>False</td>\n",
              "      <td>False</td>\n",
              "    </tr>\n",
              "    <tr>\n",
              "      <th>2</th>\n",
              "      <td>2016-02-18</td>\n",
              "      <td>27</td>\n",
              "      <td>15</td>\n",
              "      <td>10.00</td>\n",
              "      <td>4</td>\n",
              "      <td>6</td>\n",
              "      <td>8436.00</td>\n",
              "      <td>30.77</td>\n",
              "      <td>16</td>\n",
              "      <td>26.30</td>\n",
              "      <td>11.80</td>\n",
              "      <td>2016</td>\n",
              "      <td>2</td>\n",
              "      <td>18</td>\n",
              "      <td>3</td>\n",
              "      <td>1</td>\n",
              "      <td>29</td>\n",
              "      <td>49</td>\n",
              "      <td>7</td>\n",
              "      <td>False</td>\n",
              "      <td>False</td>\n",
              "      <td>False</td>\n",
              "      <td>True</td>\n",
              "      <td>False</td>\n",
              "      <td>False</td>\n",
              "      <td>False</td>\n",
              "      <td>False</td>\n",
              "      <td>False</td>\n",
              "      <td>False</td>\n",
              "      <td>True</td>\n",
              "      <td>False</td>\n",
              "      <td>True</td>\n",
              "      <td>False</td>\n",
              "      <td>False</td>\n",
              "    </tr>\n",
              "    <tr>\n",
              "      <th>3</th>\n",
              "      <td>2016-02-18</td>\n",
              "      <td>27</td>\n",
              "      <td>2</td>\n",
              "      <td>3.00</td>\n",
              "      <td>4</td>\n",
              "      <td>6</td>\n",
              "      <td>2812.00</td>\n",
              "      <td>30.77</td>\n",
              "      <td>16</td>\n",
              "      <td>26.30</td>\n",
              "      <td>11.80</td>\n",
              "      <td>2016</td>\n",
              "      <td>2</td>\n",
              "      <td>18</td>\n",
              "      <td>3</td>\n",
              "      <td>1</td>\n",
              "      <td>29</td>\n",
              "      <td>49</td>\n",
              "      <td>7</td>\n",
              "      <td>False</td>\n",
              "      <td>False</td>\n",
              "      <td>False</td>\n",
              "      <td>True</td>\n",
              "      <td>False</td>\n",
              "      <td>False</td>\n",
              "      <td>False</td>\n",
              "      <td>False</td>\n",
              "      <td>False</td>\n",
              "      <td>False</td>\n",
              "      <td>True</td>\n",
              "      <td>False</td>\n",
              "      <td>True</td>\n",
              "      <td>False</td>\n",
              "      <td>False</td>\n",
              "    </tr>\n",
              "    <tr>\n",
              "      <th>4</th>\n",
              "      <td>2016-02-18</td>\n",
              "      <td>27</td>\n",
              "      <td>18</td>\n",
              "      <td>160.00</td>\n",
              "      <td>4</td>\n",
              "      <td>6</td>\n",
              "      <td>67488.00</td>\n",
              "      <td>30.77</td>\n",
              "      <td>16</td>\n",
              "      <td>26.30</td>\n",
              "      <td>11.80</td>\n",
              "      <td>2016</td>\n",
              "      <td>2</td>\n",
              "      <td>18</td>\n",
              "      <td>3</td>\n",
              "      <td>1</td>\n",
              "      <td>29</td>\n",
              "      <td>49</td>\n",
              "      <td>7</td>\n",
              "      <td>False</td>\n",
              "      <td>False</td>\n",
              "      <td>False</td>\n",
              "      <td>True</td>\n",
              "      <td>False</td>\n",
              "      <td>False</td>\n",
              "      <td>False</td>\n",
              "      <td>False</td>\n",
              "      <td>False</td>\n",
              "      <td>False</td>\n",
              "      <td>True</td>\n",
              "      <td>False</td>\n",
              "      <td>True</td>\n",
              "      <td>False</td>\n",
              "      <td>False</td>\n",
              "    </tr>\n",
              "  </tbody>\n",
              "</table>\n",
              "</div>\n",
              "    <div class=\"colab-df-buttons\">\n",
              "\n",
              "  <div class=\"colab-df-container\">\n",
              "    <button class=\"colab-df-convert\" onclick=\"convertToInteractive('df-d75ce6d7-c789-467d-b4f1-7df32c0b6755')\"\n",
              "            title=\"Convert this dataframe to an interactive table.\"\n",
              "            style=\"display:none;\">\n",
              "\n",
              "  <svg xmlns=\"http://www.w3.org/2000/svg\" height=\"24px\" viewBox=\"0 -960 960 960\">\n",
              "    <path d=\"M120-120v-720h720v720H120Zm60-500h600v-160H180v160Zm220 220h160v-160H400v160Zm0 220h160v-160H400v160ZM180-400h160v-160H180v160Zm440 0h160v-160H620v160ZM180-180h160v-160H180v160Zm440 0h160v-160H620v160Z\"/>\n",
              "  </svg>\n",
              "    </button>\n",
              "\n",
              "  <style>\n",
              "    .colab-df-container {\n",
              "      display:flex;\n",
              "      gap: 12px;\n",
              "    }\n",
              "\n",
              "    .colab-df-convert {\n",
              "      background-color: #E8F0FE;\n",
              "      border: none;\n",
              "      border-radius: 50%;\n",
              "      cursor: pointer;\n",
              "      display: none;\n",
              "      fill: #1967D2;\n",
              "      height: 32px;\n",
              "      padding: 0 0 0 0;\n",
              "      width: 32px;\n",
              "    }\n",
              "\n",
              "    .colab-df-convert:hover {\n",
              "      background-color: #E2EBFA;\n",
              "      box-shadow: 0px 1px 2px rgba(60, 64, 67, 0.3), 0px 1px 3px 1px rgba(60, 64, 67, 0.15);\n",
              "      fill: #174EA6;\n",
              "    }\n",
              "\n",
              "    .colab-df-buttons div {\n",
              "      margin-bottom: 4px;\n",
              "    }\n",
              "\n",
              "    [theme=dark] .colab-df-convert {\n",
              "      background-color: #3B4455;\n",
              "      fill: #D2E3FC;\n",
              "    }\n",
              "\n",
              "    [theme=dark] .colab-df-convert:hover {\n",
              "      background-color: #434B5C;\n",
              "      box-shadow: 0px 1px 3px 1px rgba(0, 0, 0, 0.15);\n",
              "      filter: drop-shadow(0px 1px 2px rgba(0, 0, 0, 0.3));\n",
              "      fill: #FFFFFF;\n",
              "    }\n",
              "  </style>\n",
              "\n",
              "    <script>\n",
              "      const buttonEl =\n",
              "        document.querySelector('#df-d75ce6d7-c789-467d-b4f1-7df32c0b6755 button.colab-df-convert');\n",
              "      buttonEl.style.display =\n",
              "        google.colab.kernel.accessAllowed ? 'block' : 'none';\n",
              "\n",
              "      async function convertToInteractive(key) {\n",
              "        const element = document.querySelector('#df-d75ce6d7-c789-467d-b4f1-7df32c0b6755');\n",
              "        const dataTable =\n",
              "          await google.colab.kernel.invokeFunction('convertToInteractive',\n",
              "                                                    [key], {});\n",
              "        if (!dataTable) return;\n",
              "\n",
              "        const docLinkHtml = 'Like what you see? Visit the ' +\n",
              "          '<a target=\"_blank\" href=https://colab.research.google.com/notebooks/data_table.ipynb>data table notebook</a>'\n",
              "          + ' to learn more about interactive tables.';\n",
              "        element.innerHTML = '';\n",
              "        dataTable['output_type'] = 'display_data';\n",
              "        await google.colab.output.renderOutput(dataTable, element);\n",
              "        const docLink = document.createElement('div');\n",
              "        docLink.innerHTML = docLinkHtml;\n",
              "        element.appendChild(docLink);\n",
              "      }\n",
              "    </script>\n",
              "  </div>\n",
              "\n",
              "\n",
              "    <div id=\"df-23134966-2da4-4eb7-ac3e-9562f9ab7468\">\n",
              "      <button class=\"colab-df-quickchart\" onclick=\"quickchart('df-23134966-2da4-4eb7-ac3e-9562f9ab7468')\"\n",
              "                title=\"Suggest charts\"\n",
              "                style=\"display:none;\">\n",
              "\n",
              "<svg xmlns=\"http://www.w3.org/2000/svg\" height=\"24px\"viewBox=\"0 0 24 24\"\n",
              "     width=\"24px\">\n",
              "    <g>\n",
              "        <path d=\"M19 3H5c-1.1 0-2 .9-2 2v14c0 1.1.9 2 2 2h14c1.1 0 2-.9 2-2V5c0-1.1-.9-2-2-2zM9 17H7v-7h2v7zm4 0h-2V7h2v10zm4 0h-2v-4h2v4z\"/>\n",
              "    </g>\n",
              "</svg>\n",
              "      </button>\n",
              "\n",
              "<style>\n",
              "  .colab-df-quickchart {\n",
              "      --bg-color: #E8F0FE;\n",
              "      --fill-color: #1967D2;\n",
              "      --hover-bg-color: #E2EBFA;\n",
              "      --hover-fill-color: #174EA6;\n",
              "      --disabled-fill-color: #AAA;\n",
              "      --disabled-bg-color: #DDD;\n",
              "  }\n",
              "\n",
              "  [theme=dark] .colab-df-quickchart {\n",
              "      --bg-color: #3B4455;\n",
              "      --fill-color: #D2E3FC;\n",
              "      --hover-bg-color: #434B5C;\n",
              "      --hover-fill-color: #FFFFFF;\n",
              "      --disabled-bg-color: #3B4455;\n",
              "      --disabled-fill-color: #666;\n",
              "  }\n",
              "\n",
              "  .colab-df-quickchart {\n",
              "    background-color: var(--bg-color);\n",
              "    border: none;\n",
              "    border-radius: 50%;\n",
              "    cursor: pointer;\n",
              "    display: none;\n",
              "    fill: var(--fill-color);\n",
              "    height: 32px;\n",
              "    padding: 0;\n",
              "    width: 32px;\n",
              "  }\n",
              "\n",
              "  .colab-df-quickchart:hover {\n",
              "    background-color: var(--hover-bg-color);\n",
              "    box-shadow: 0 1px 2px rgba(60, 64, 67, 0.3), 0 1px 3px 1px rgba(60, 64, 67, 0.15);\n",
              "    fill: var(--button-hover-fill-color);\n",
              "  }\n",
              "\n",
              "  .colab-df-quickchart-complete:disabled,\n",
              "  .colab-df-quickchart-complete:disabled:hover {\n",
              "    background-color: var(--disabled-bg-color);\n",
              "    fill: var(--disabled-fill-color);\n",
              "    box-shadow: none;\n",
              "  }\n",
              "\n",
              "  .colab-df-spinner {\n",
              "    border: 2px solid var(--fill-color);\n",
              "    border-color: transparent;\n",
              "    border-bottom-color: var(--fill-color);\n",
              "    animation:\n",
              "      spin 1s steps(1) infinite;\n",
              "  }\n",
              "\n",
              "  @keyframes spin {\n",
              "    0% {\n",
              "      border-color: transparent;\n",
              "      border-bottom-color: var(--fill-color);\n",
              "      border-left-color: var(--fill-color);\n",
              "    }\n",
              "    20% {\n",
              "      border-color: transparent;\n",
              "      border-left-color: var(--fill-color);\n",
              "      border-top-color: var(--fill-color);\n",
              "    }\n",
              "    30% {\n",
              "      border-color: transparent;\n",
              "      border-left-color: var(--fill-color);\n",
              "      border-top-color: var(--fill-color);\n",
              "      border-right-color: var(--fill-color);\n",
              "    }\n",
              "    40% {\n",
              "      border-color: transparent;\n",
              "      border-right-color: var(--fill-color);\n",
              "      border-top-color: var(--fill-color);\n",
              "    }\n",
              "    60% {\n",
              "      border-color: transparent;\n",
              "      border-right-color: var(--fill-color);\n",
              "    }\n",
              "    80% {\n",
              "      border-color: transparent;\n",
              "      border-right-color: var(--fill-color);\n",
              "      border-bottom-color: var(--fill-color);\n",
              "    }\n",
              "    90% {\n",
              "      border-color: transparent;\n",
              "      border-bottom-color: var(--fill-color);\n",
              "    }\n",
              "  }\n",
              "</style>\n",
              "\n",
              "      <script>\n",
              "        async function quickchart(key) {\n",
              "          const quickchartButtonEl =\n",
              "            document.querySelector('#' + key + ' button');\n",
              "          quickchartButtonEl.disabled = true;  // To prevent multiple clicks.\n",
              "          quickchartButtonEl.classList.add('colab-df-spinner');\n",
              "          try {\n",
              "            const charts = await google.colab.kernel.invokeFunction(\n",
              "                'suggestCharts', [key], {});\n",
              "          } catch (error) {\n",
              "            console.error('Error during call to suggestCharts:', error);\n",
              "          }\n",
              "          quickchartButtonEl.classList.remove('colab-df-spinner');\n",
              "          quickchartButtonEl.classList.add('colab-df-quickchart-complete');\n",
              "        }\n",
              "        (() => {\n",
              "          let quickchartButtonEl =\n",
              "            document.querySelector('#df-23134966-2da4-4eb7-ac3e-9562f9ab7468 button');\n",
              "          quickchartButtonEl.style.display =\n",
              "            google.colab.kernel.accessAllowed ? 'block' : 'none';\n",
              "        })();\n",
              "      </script>\n",
              "    </div>\n",
              "\n",
              "    </div>\n",
              "  </div>\n"
            ],
            "application/vnd.google.colaboratory.intrinsic+json": {
              "type": "dataframe",
              "variable_name": "df"
            }
          },
          "metadata": {},
          "execution_count": 13
        }
      ]
    },
    {
      "cell_type": "code",
      "source": [
        "df = df.drop(columns='date')"
      ],
      "metadata": {
        "id": "medRYaVJrcKk"
      },
      "execution_count": 14,
      "outputs": []
    },
    {
      "cell_type": "code",
      "source": [
        "from scipy.stats import skew\n",
        "numeric_cols = df.select_dtypes(include=['int8', 'int16', 'int32', 'int64', 'float32', 'float64']).columns.tolist()\n",
        "for col in numeric_cols:\n",
        "    if col == 'unit_sales':\n",
        "        continue\n",
        "    skewness = df[col].skew()\n",
        "    if abs(skewness) > 1:\n",
        "        Q1 = df[col].quantile(0.25)\n",
        "        Q3 = df[col].quantile(0.75)\n",
        "        IQR = Q3 - Q1\n",
        "        lower = Q1 - 1.5 * IQR\n",
        "        upper = Q3 + 1.5 * IQR\n",
        "        df[col] = df[col].clip(lower, upper)"
      ],
      "metadata": {
        "id": "pGpMzFC4rc0d"
      },
      "execution_count": 15,
      "outputs": []
    },
    {
      "cell_type": "code",
      "source": [
        "df.head()"
      ],
      "metadata": {
        "colab": {
          "base_uri": "https://localhost:8080/",
          "height": 244
        },
        "id": "Azqyliqvr0Mj",
        "outputId": "1d55f0a0-e9bd-4e76-8105-80c06acd9d58"
      },
      "execution_count": 16,
      "outputs": [
        {
          "output_type": "execute_result",
          "data": {
            "text/plain": [
              "   store_nbr  family  unit_sales  city  state  transactions  oil_price  \\\n",
              "0         27       0        6.00     4      6       7030.00      30.77   \n",
              "1         27      25      194.00     4      6      94202.00      30.77   \n",
              "2         27      15       10.00     4      6       8436.00      30.77   \n",
              "3         27       2        3.00     4      6       2812.00      30.77   \n",
              "4         27      18      160.00     4      6      67488.00      30.77   \n",
              "\n",
              "   locale_name  temperature  precipitation  year  month  day  dayofweek  \\\n",
              "0           16        26.30          11.80  2016      2   18          3   \n",
              "1           16        26.30          11.80  2016      2   18          3   \n",
              "2           16        26.30          11.80  2016      2   18          3   \n",
              "3           16        26.30          11.80  2016      2   18          3   \n",
              "4           16        26.30          11.80  2016      2   18          3   \n",
              "\n",
              "   quarter  days_in_month  day_of_year  week_of_year  onpromotion_True  \\\n",
              "0        1          29.00           49             7             False   \n",
              "1        1          29.00           49             7             False   \n",
              "2        1          29.00           49             7             False   \n",
              "3        1          29.00           49             7             False   \n",
              "4        1          29.00           49             7             False   \n",
              "\n",
              "   store_type_B  store_type_C  store_type_D  store_type_E  perishable_True  \\\n",
              "0         False         False          True         False            False   \n",
              "1         False         False          True         False            False   \n",
              "2         False         False          True         False            False   \n",
              "3         False         False          True         False            False   \n",
              "4         False         False          True         False            False   \n",
              "\n",
              "   day_type_Bridge  day_type_Event  day_type_Holiday  day_type_Transfer  \\\n",
              "0            False           False             False              False   \n",
              "1            False           False             False              False   \n",
              "2            False           False             False              False   \n",
              "3            False           False             False              False   \n",
              "4            False           False             False              False   \n",
              "\n",
              "   day_type_Work Day  Event Scale_National  Event Scale_Non  \\\n",
              "0               True                 False             True   \n",
              "1               True                 False             True   \n",
              "2               True                 False             True   \n",
              "3               True                 False             True   \n",
              "4               True                 False             True   \n",
              "\n",
              "   Event Scale_Regional  is_weekend_True  \n",
              "0                 False            False  \n",
              "1                 False            False  \n",
              "2                 False            False  \n",
              "3                 False            False  \n",
              "4                 False            False  "
            ],
            "text/html": [
              "\n",
              "  <div id=\"df-e9747068-f323-4cdf-9f6f-6ef4893f53a5\" class=\"colab-df-container\">\n",
              "    <div>\n",
              "<style scoped>\n",
              "    .dataframe tbody tr th:only-of-type {\n",
              "        vertical-align: middle;\n",
              "    }\n",
              "\n",
              "    .dataframe tbody tr th {\n",
              "        vertical-align: top;\n",
              "    }\n",
              "\n",
              "    .dataframe thead th {\n",
              "        text-align: right;\n",
              "    }\n",
              "</style>\n",
              "<table border=\"1\" class=\"dataframe\">\n",
              "  <thead>\n",
              "    <tr style=\"text-align: right;\">\n",
              "      <th></th>\n",
              "      <th>store_nbr</th>\n",
              "      <th>family</th>\n",
              "      <th>unit_sales</th>\n",
              "      <th>city</th>\n",
              "      <th>state</th>\n",
              "      <th>transactions</th>\n",
              "      <th>oil_price</th>\n",
              "      <th>locale_name</th>\n",
              "      <th>temperature</th>\n",
              "      <th>precipitation</th>\n",
              "      <th>year</th>\n",
              "      <th>month</th>\n",
              "      <th>day</th>\n",
              "      <th>dayofweek</th>\n",
              "      <th>quarter</th>\n",
              "      <th>days_in_month</th>\n",
              "      <th>day_of_year</th>\n",
              "      <th>week_of_year</th>\n",
              "      <th>onpromotion_True</th>\n",
              "      <th>store_type_B</th>\n",
              "      <th>store_type_C</th>\n",
              "      <th>store_type_D</th>\n",
              "      <th>store_type_E</th>\n",
              "      <th>perishable_True</th>\n",
              "      <th>day_type_Bridge</th>\n",
              "      <th>day_type_Event</th>\n",
              "      <th>day_type_Holiday</th>\n",
              "      <th>day_type_Transfer</th>\n",
              "      <th>day_type_Work Day</th>\n",
              "      <th>Event Scale_National</th>\n",
              "      <th>Event Scale_Non</th>\n",
              "      <th>Event Scale_Regional</th>\n",
              "      <th>is_weekend_True</th>\n",
              "    </tr>\n",
              "  </thead>\n",
              "  <tbody>\n",
              "    <tr>\n",
              "      <th>0</th>\n",
              "      <td>27</td>\n",
              "      <td>0</td>\n",
              "      <td>6.00</td>\n",
              "      <td>4</td>\n",
              "      <td>6</td>\n",
              "      <td>7030.00</td>\n",
              "      <td>30.77</td>\n",
              "      <td>16</td>\n",
              "      <td>26.30</td>\n",
              "      <td>11.80</td>\n",
              "      <td>2016</td>\n",
              "      <td>2</td>\n",
              "      <td>18</td>\n",
              "      <td>3</td>\n",
              "      <td>1</td>\n",
              "      <td>29.00</td>\n",
              "      <td>49</td>\n",
              "      <td>7</td>\n",
              "      <td>False</td>\n",
              "      <td>False</td>\n",
              "      <td>False</td>\n",
              "      <td>True</td>\n",
              "      <td>False</td>\n",
              "      <td>False</td>\n",
              "      <td>False</td>\n",
              "      <td>False</td>\n",
              "      <td>False</td>\n",
              "      <td>False</td>\n",
              "      <td>True</td>\n",
              "      <td>False</td>\n",
              "      <td>True</td>\n",
              "      <td>False</td>\n",
              "      <td>False</td>\n",
              "    </tr>\n",
              "    <tr>\n",
              "      <th>1</th>\n",
              "      <td>27</td>\n",
              "      <td>25</td>\n",
              "      <td>194.00</td>\n",
              "      <td>4</td>\n",
              "      <td>6</td>\n",
              "      <td>94202.00</td>\n",
              "      <td>30.77</td>\n",
              "      <td>16</td>\n",
              "      <td>26.30</td>\n",
              "      <td>11.80</td>\n",
              "      <td>2016</td>\n",
              "      <td>2</td>\n",
              "      <td>18</td>\n",
              "      <td>3</td>\n",
              "      <td>1</td>\n",
              "      <td>29.00</td>\n",
              "      <td>49</td>\n",
              "      <td>7</td>\n",
              "      <td>False</td>\n",
              "      <td>False</td>\n",
              "      <td>False</td>\n",
              "      <td>True</td>\n",
              "      <td>False</td>\n",
              "      <td>False</td>\n",
              "      <td>False</td>\n",
              "      <td>False</td>\n",
              "      <td>False</td>\n",
              "      <td>False</td>\n",
              "      <td>True</td>\n",
              "      <td>False</td>\n",
              "      <td>True</td>\n",
              "      <td>False</td>\n",
              "      <td>False</td>\n",
              "    </tr>\n",
              "    <tr>\n",
              "      <th>2</th>\n",
              "      <td>27</td>\n",
              "      <td>15</td>\n",
              "      <td>10.00</td>\n",
              "      <td>4</td>\n",
              "      <td>6</td>\n",
              "      <td>8436.00</td>\n",
              "      <td>30.77</td>\n",
              "      <td>16</td>\n",
              "      <td>26.30</td>\n",
              "      <td>11.80</td>\n",
              "      <td>2016</td>\n",
              "      <td>2</td>\n",
              "      <td>18</td>\n",
              "      <td>3</td>\n",
              "      <td>1</td>\n",
              "      <td>29.00</td>\n",
              "      <td>49</td>\n",
              "      <td>7</td>\n",
              "      <td>False</td>\n",
              "      <td>False</td>\n",
              "      <td>False</td>\n",
              "      <td>True</td>\n",
              "      <td>False</td>\n",
              "      <td>False</td>\n",
              "      <td>False</td>\n",
              "      <td>False</td>\n",
              "      <td>False</td>\n",
              "      <td>False</td>\n",
              "      <td>True</td>\n",
              "      <td>False</td>\n",
              "      <td>True</td>\n",
              "      <td>False</td>\n",
              "      <td>False</td>\n",
              "    </tr>\n",
              "    <tr>\n",
              "      <th>3</th>\n",
              "      <td>27</td>\n",
              "      <td>2</td>\n",
              "      <td>3.00</td>\n",
              "      <td>4</td>\n",
              "      <td>6</td>\n",
              "      <td>2812.00</td>\n",
              "      <td>30.77</td>\n",
              "      <td>16</td>\n",
              "      <td>26.30</td>\n",
              "      <td>11.80</td>\n",
              "      <td>2016</td>\n",
              "      <td>2</td>\n",
              "      <td>18</td>\n",
              "      <td>3</td>\n",
              "      <td>1</td>\n",
              "      <td>29.00</td>\n",
              "      <td>49</td>\n",
              "      <td>7</td>\n",
              "      <td>False</td>\n",
              "      <td>False</td>\n",
              "      <td>False</td>\n",
              "      <td>True</td>\n",
              "      <td>False</td>\n",
              "      <td>False</td>\n",
              "      <td>False</td>\n",
              "      <td>False</td>\n",
              "      <td>False</td>\n",
              "      <td>False</td>\n",
              "      <td>True</td>\n",
              "      <td>False</td>\n",
              "      <td>True</td>\n",
              "      <td>False</td>\n",
              "      <td>False</td>\n",
              "    </tr>\n",
              "    <tr>\n",
              "      <th>4</th>\n",
              "      <td>27</td>\n",
              "      <td>18</td>\n",
              "      <td>160.00</td>\n",
              "      <td>4</td>\n",
              "      <td>6</td>\n",
              "      <td>67488.00</td>\n",
              "      <td>30.77</td>\n",
              "      <td>16</td>\n",
              "      <td>26.30</td>\n",
              "      <td>11.80</td>\n",
              "      <td>2016</td>\n",
              "      <td>2</td>\n",
              "      <td>18</td>\n",
              "      <td>3</td>\n",
              "      <td>1</td>\n",
              "      <td>29.00</td>\n",
              "      <td>49</td>\n",
              "      <td>7</td>\n",
              "      <td>False</td>\n",
              "      <td>False</td>\n",
              "      <td>False</td>\n",
              "      <td>True</td>\n",
              "      <td>False</td>\n",
              "      <td>False</td>\n",
              "      <td>False</td>\n",
              "      <td>False</td>\n",
              "      <td>False</td>\n",
              "      <td>False</td>\n",
              "      <td>True</td>\n",
              "      <td>False</td>\n",
              "      <td>True</td>\n",
              "      <td>False</td>\n",
              "      <td>False</td>\n",
              "    </tr>\n",
              "  </tbody>\n",
              "</table>\n",
              "</div>\n",
              "    <div class=\"colab-df-buttons\">\n",
              "\n",
              "  <div class=\"colab-df-container\">\n",
              "    <button class=\"colab-df-convert\" onclick=\"convertToInteractive('df-e9747068-f323-4cdf-9f6f-6ef4893f53a5')\"\n",
              "            title=\"Convert this dataframe to an interactive table.\"\n",
              "            style=\"display:none;\">\n",
              "\n",
              "  <svg xmlns=\"http://www.w3.org/2000/svg\" height=\"24px\" viewBox=\"0 -960 960 960\">\n",
              "    <path d=\"M120-120v-720h720v720H120Zm60-500h600v-160H180v160Zm220 220h160v-160H400v160Zm0 220h160v-160H400v160ZM180-400h160v-160H180v160Zm440 0h160v-160H620v160ZM180-180h160v-160H180v160Zm440 0h160v-160H620v160Z\"/>\n",
              "  </svg>\n",
              "    </button>\n",
              "\n",
              "  <style>\n",
              "    .colab-df-container {\n",
              "      display:flex;\n",
              "      gap: 12px;\n",
              "    }\n",
              "\n",
              "    .colab-df-convert {\n",
              "      background-color: #E8F0FE;\n",
              "      border: none;\n",
              "      border-radius: 50%;\n",
              "      cursor: pointer;\n",
              "      display: none;\n",
              "      fill: #1967D2;\n",
              "      height: 32px;\n",
              "      padding: 0 0 0 0;\n",
              "      width: 32px;\n",
              "    }\n",
              "\n",
              "    .colab-df-convert:hover {\n",
              "      background-color: #E2EBFA;\n",
              "      box-shadow: 0px 1px 2px rgba(60, 64, 67, 0.3), 0px 1px 3px 1px rgba(60, 64, 67, 0.15);\n",
              "      fill: #174EA6;\n",
              "    }\n",
              "\n",
              "    .colab-df-buttons div {\n",
              "      margin-bottom: 4px;\n",
              "    }\n",
              "\n",
              "    [theme=dark] .colab-df-convert {\n",
              "      background-color: #3B4455;\n",
              "      fill: #D2E3FC;\n",
              "    }\n",
              "\n",
              "    [theme=dark] .colab-df-convert:hover {\n",
              "      background-color: #434B5C;\n",
              "      box-shadow: 0px 1px 3px 1px rgba(0, 0, 0, 0.15);\n",
              "      filter: drop-shadow(0px 1px 2px rgba(0, 0, 0, 0.3));\n",
              "      fill: #FFFFFF;\n",
              "    }\n",
              "  </style>\n",
              "\n",
              "    <script>\n",
              "      const buttonEl =\n",
              "        document.querySelector('#df-e9747068-f323-4cdf-9f6f-6ef4893f53a5 button.colab-df-convert');\n",
              "      buttonEl.style.display =\n",
              "        google.colab.kernel.accessAllowed ? 'block' : 'none';\n",
              "\n",
              "      async function convertToInteractive(key) {\n",
              "        const element = document.querySelector('#df-e9747068-f323-4cdf-9f6f-6ef4893f53a5');\n",
              "        const dataTable =\n",
              "          await google.colab.kernel.invokeFunction('convertToInteractive',\n",
              "                                                    [key], {});\n",
              "        if (!dataTable) return;\n",
              "\n",
              "        const docLinkHtml = 'Like what you see? Visit the ' +\n",
              "          '<a target=\"_blank\" href=https://colab.research.google.com/notebooks/data_table.ipynb>data table notebook</a>'\n",
              "          + ' to learn more about interactive tables.';\n",
              "        element.innerHTML = '';\n",
              "        dataTable['output_type'] = 'display_data';\n",
              "        await google.colab.output.renderOutput(dataTable, element);\n",
              "        const docLink = document.createElement('div');\n",
              "        docLink.innerHTML = docLinkHtml;\n",
              "        element.appendChild(docLink);\n",
              "      }\n",
              "    </script>\n",
              "  </div>\n",
              "\n",
              "\n",
              "    <div id=\"df-b9a13fd4-7901-46bf-9216-7ce3c8595aed\">\n",
              "      <button class=\"colab-df-quickchart\" onclick=\"quickchart('df-b9a13fd4-7901-46bf-9216-7ce3c8595aed')\"\n",
              "                title=\"Suggest charts\"\n",
              "                style=\"display:none;\">\n",
              "\n",
              "<svg xmlns=\"http://www.w3.org/2000/svg\" height=\"24px\"viewBox=\"0 0 24 24\"\n",
              "     width=\"24px\">\n",
              "    <g>\n",
              "        <path d=\"M19 3H5c-1.1 0-2 .9-2 2v14c0 1.1.9 2 2 2h14c1.1 0 2-.9 2-2V5c0-1.1-.9-2-2-2zM9 17H7v-7h2v7zm4 0h-2V7h2v10zm4 0h-2v-4h2v4z\"/>\n",
              "    </g>\n",
              "</svg>\n",
              "      </button>\n",
              "\n",
              "<style>\n",
              "  .colab-df-quickchart {\n",
              "      --bg-color: #E8F0FE;\n",
              "      --fill-color: #1967D2;\n",
              "      --hover-bg-color: #E2EBFA;\n",
              "      --hover-fill-color: #174EA6;\n",
              "      --disabled-fill-color: #AAA;\n",
              "      --disabled-bg-color: #DDD;\n",
              "  }\n",
              "\n",
              "  [theme=dark] .colab-df-quickchart {\n",
              "      --bg-color: #3B4455;\n",
              "      --fill-color: #D2E3FC;\n",
              "      --hover-bg-color: #434B5C;\n",
              "      --hover-fill-color: #FFFFFF;\n",
              "      --disabled-bg-color: #3B4455;\n",
              "      --disabled-fill-color: #666;\n",
              "  }\n",
              "\n",
              "  .colab-df-quickchart {\n",
              "    background-color: var(--bg-color);\n",
              "    border: none;\n",
              "    border-radius: 50%;\n",
              "    cursor: pointer;\n",
              "    display: none;\n",
              "    fill: var(--fill-color);\n",
              "    height: 32px;\n",
              "    padding: 0;\n",
              "    width: 32px;\n",
              "  }\n",
              "\n",
              "  .colab-df-quickchart:hover {\n",
              "    background-color: var(--hover-bg-color);\n",
              "    box-shadow: 0 1px 2px rgba(60, 64, 67, 0.3), 0 1px 3px 1px rgba(60, 64, 67, 0.15);\n",
              "    fill: var(--button-hover-fill-color);\n",
              "  }\n",
              "\n",
              "  .colab-df-quickchart-complete:disabled,\n",
              "  .colab-df-quickchart-complete:disabled:hover {\n",
              "    background-color: var(--disabled-bg-color);\n",
              "    fill: var(--disabled-fill-color);\n",
              "    box-shadow: none;\n",
              "  }\n",
              "\n",
              "  .colab-df-spinner {\n",
              "    border: 2px solid var(--fill-color);\n",
              "    border-color: transparent;\n",
              "    border-bottom-color: var(--fill-color);\n",
              "    animation:\n",
              "      spin 1s steps(1) infinite;\n",
              "  }\n",
              "\n",
              "  @keyframes spin {\n",
              "    0% {\n",
              "      border-color: transparent;\n",
              "      border-bottom-color: var(--fill-color);\n",
              "      border-left-color: var(--fill-color);\n",
              "    }\n",
              "    20% {\n",
              "      border-color: transparent;\n",
              "      border-left-color: var(--fill-color);\n",
              "      border-top-color: var(--fill-color);\n",
              "    }\n",
              "    30% {\n",
              "      border-color: transparent;\n",
              "      border-left-color: var(--fill-color);\n",
              "      border-top-color: var(--fill-color);\n",
              "      border-right-color: var(--fill-color);\n",
              "    }\n",
              "    40% {\n",
              "      border-color: transparent;\n",
              "      border-right-color: var(--fill-color);\n",
              "      border-top-color: var(--fill-color);\n",
              "    }\n",
              "    60% {\n",
              "      border-color: transparent;\n",
              "      border-right-color: var(--fill-color);\n",
              "    }\n",
              "    80% {\n",
              "      border-color: transparent;\n",
              "      border-right-color: var(--fill-color);\n",
              "      border-bottom-color: var(--fill-color);\n",
              "    }\n",
              "    90% {\n",
              "      border-color: transparent;\n",
              "      border-bottom-color: var(--fill-color);\n",
              "    }\n",
              "  }\n",
              "</style>\n",
              "\n",
              "      <script>\n",
              "        async function quickchart(key) {\n",
              "          const quickchartButtonEl =\n",
              "            document.querySelector('#' + key + ' button');\n",
              "          quickchartButtonEl.disabled = true;  // To prevent multiple clicks.\n",
              "          quickchartButtonEl.classList.add('colab-df-spinner');\n",
              "          try {\n",
              "            const charts = await google.colab.kernel.invokeFunction(\n",
              "                'suggestCharts', [key], {});\n",
              "          } catch (error) {\n",
              "            console.error('Error during call to suggestCharts:', error);\n",
              "          }\n",
              "          quickchartButtonEl.classList.remove('colab-df-spinner');\n",
              "          quickchartButtonEl.classList.add('colab-df-quickchart-complete');\n",
              "        }\n",
              "        (() => {\n",
              "          let quickchartButtonEl =\n",
              "            document.querySelector('#df-b9a13fd4-7901-46bf-9216-7ce3c8595aed button');\n",
              "          quickchartButtonEl.style.display =\n",
              "            google.colab.kernel.accessAllowed ? 'block' : 'none';\n",
              "        })();\n",
              "      </script>\n",
              "    </div>\n",
              "\n",
              "    </div>\n",
              "  </div>\n"
            ],
            "application/vnd.google.colaboratory.intrinsic+json": {
              "type": "dataframe",
              "variable_name": "df"
            }
          },
          "metadata": {},
          "execution_count": 16
        }
      ]
    },
    {
      "cell_type": "code",
      "source": [
        "y = df['unit_sales']\n",
        "X = df.drop(columns=['unit_sales'])"
      ],
      "metadata": {
        "id": "FWhUpNrqtHoL"
      },
      "execution_count": 17,
      "outputs": []
    },
    {
      "cell_type": "code",
      "source": [
        "X_temp, X_test, y_temp, y_test = train_test_split(X, y, test_size=0.2, random_state=42)\n",
        "X_train, X_val, y_train, y_val = train_test_split(X_temp, y_temp, test_size=0.25, random_state=42)"
      ],
      "metadata": {
        "id": "N_SqMFCstjRS"
      },
      "execution_count": 18,
      "outputs": []
    },
    {
      "cell_type": "code",
      "source": [
        "X_train.to_parquet('/content/X_train_processed.parquet', engine='pyarrow', index=False)\n",
        "X_val.to_parquet('/content/X_val_processed.parquet', engine='pyarrow', index=False)\n",
        "X_test.to_parquet('/content/X_test_processed.parquet', engine='pyarrow', index=False)\n",
        "\n",
        "pd.DataFrame(y_train, columns=['unit_sales']).to_parquet('/content/y_train_processed.parquet', engine='pyarrow', index=False)\n",
        "pd.DataFrame(y_val, columns=['unit_sales']).to_parquet('/content/y_val_processed.parquet', engine='pyarrow', index=False)\n",
        "pd.DataFrame(y_test, columns=['unit_sales']).to_parquet('/content/y_test_processed.parquet', engine='pyarrow', index=False)"
      ],
      "metadata": {
        "id": "m3jdeXUntosC"
      },
      "execution_count": 19,
      "outputs": []
    },
    {
      "cell_type": "code",
      "source": [
        "X_train = pd.read_parquet('/content/X_train_processed.parquet')\n",
        "X_val = pd.read_parquet('/content/X_val_processed.parquet')\n",
        "X_test = pd.read_parquet('/content/X_test_processed.parquet')\n",
        "\n",
        "y_train = pd.read_parquet('/content/y_train_processed.parquet')['unit_sales']\n",
        "y_val = pd.read_parquet('/content/y_val_processed.parquet')['unit_sales']\n",
        "y_test = pd.read_parquet('/content/y_test_processed.parquet')['unit_sales']"
      ],
      "metadata": {
        "id": "yC3aRlw91dA-"
      },
      "execution_count": 20,
      "outputs": []
    },
    {
      "cell_type": "code",
      "source": [
        "print(\"X_train:\", X_train.shape)\n",
        "print(\"y_train:\", y_train.shape)\n",
        "\n",
        "print(\"X_val:\", X_val.shape)\n",
        "print(\"y_val:\", y_val.shape)\n",
        "\n",
        "print(\"X_test:\", X_test.shape)\n",
        "print(\"y_test:\", y_test.shape)"
      ],
      "metadata": {
        "colab": {
          "base_uri": "https://localhost:8080/"
        },
        "id": "Y7rEt93wgunW",
        "outputId": "6cce6123-9f91-4caf-f8bc-560bebe28857"
      },
      "execution_count": 21,
      "outputs": [
        {
          "output_type": "stream",
          "name": "stdout",
          "text": [
            "X_train: (1237141, 32)\n",
            "y_train: (1237141,)\n",
            "X_val: (412381, 32)\n",
            "y_val: (412381,)\n",
            "X_test: (412381, 32)\n",
            "y_test: (412381,)\n"
          ]
        }
      ]
    },
    {
      "cell_type": "code",
      "source": [
        "from sklearn.metrics import mean_squared_error, mean_absolute_error, r2_score\n",
        "from sklearn.model_selection import GridSearchCV, RandomizedSearchCV\n",
        "from sklearn.ensemble import RandomForestRegressor, GradientBoostingRegressor\n",
        "from sklearn.linear_model import LinearRegression, Ridge, Lasso\n",
        "import xgboost as xgb\n",
        "import lightgbm as lgb\n",
        "from math import sqrt\n",
        "import matplotlib.pyplot as plt\n",
        "import seaborn as sns\n",
        "import time"
      ],
      "metadata": {
        "id": "QKywZdleXqSm"
      },
      "execution_count": 22,
      "outputs": []
    },
    {
      "cell_type": "code",
      "source": [
        "def evaluate_model(model, X_train, X_val, y_train, y_val, model_name):\n",
        "    start_time = time.time()\n",
        "    model.fit(X_train, y_train)\n",
        "    train_time = time.time() - start_time\n",
        "\n",
        "    start_time = time.time()\n",
        "    y_pred = model.predict(X_val)\n",
        "    inference_time = time.time() - start_time\n",
        "\n",
        "    mse = mean_squared_error(y_val, y_pred)\n",
        "    rmse = sqrt(mse)\n",
        "    mae = mean_absolute_error(y_val, y_pred)\n",
        "    r2 = r2_score(y_val, y_pred)\n",
        "\n",
        "    print(f\"\\n{model_name} Evaluation on Validation Set:\")\n",
        "    print(f\"RMSE: {rmse:.4f}\")\n",
        "    print(f\"MAE: {mae:.4f}\")\n",
        "    print(f\"R²: {r2:.4f}\")\n",
        "    print(f\"Training Time: {train_time:.2f} seconds\")\n",
        "    print(f\"Inference Time: {inference_time:.2f} seconds\")\n",
        "\n",
        "    return {\n",
        "        'model': model,\n",
        "        'model_name': model_name,\n",
        "        'rmse': rmse,\n",
        "        'mae': mae,\n",
        "        'r2': r2,\n",
        "        'train_time': train_time,\n",
        "        'inference_time': inference_time,\n",
        "        'y_pred': y_pred\n",
        "    }"
      ],
      "metadata": {
        "id": "5NX_QTvlXtgF"
      },
      "execution_count": 23,
      "outputs": []
    },
    {
      "cell_type": "code",
      "source": [
        "model_results = {}"
      ],
      "metadata": {
        "id": "w7NUkV98X8SH"
      },
      "execution_count": 24,
      "outputs": []
    },
    {
      "cell_type": "code",
      "source": [
        "gc.collect()"
      ],
      "metadata": {
        "colab": {
          "base_uri": "https://localhost:8080/"
        },
        "id": "Y2D8GSPxm1k0",
        "outputId": "deac46d5-7cb6-4fe0-c046-ea0091c66f68"
      },
      "execution_count": 25,
      "outputs": [
        {
          "output_type": "execute_result",
          "data": {
            "text/plain": [
              "247"
            ]
          },
          "metadata": {},
          "execution_count": 25
        }
      ]
    },
    {
      "cell_type": "code",
      "source": [
        "import seaborn as sns\n",
        "import matplotlib.pyplot as plt\n",
        "\n",
        "correlations = X_train.copy()\n",
        "correlations['unit_sales'] = y_train\n",
        "corr_matrix = correlations.corr()\n",
        "\n",
        "plt.figure(figsize=(12, 10))\n",
        "sns.heatmap(corr_matrix[['unit_sales']].sort_values(by='unit_sales', ascending=False), annot=True, cmap='coolwarm')\n",
        "plt.title('Correlation with unit_sales')\n",
        "plt.show()"
      ],
      "metadata": {
        "colab": {
          "base_uri": "https://localhost:8080/",
          "height": 853
        },
        "id": "mxNrbfE1lbuv",
        "outputId": "5bf9bbb3-e89f-4538-b7d0-deba634b472a"
      },
      "execution_count": 26,
      "outputs": [
        {
          "output_type": "display_data",
          "data": {
            "text/plain": [
              "<Figure size 1200x1000 with 2 Axes>"
            ],
            "image/png": "[encoded data removed]"
          },
          "metadata": {}
        }
      ]
    },
    {
      "cell_type": "code",
      "source": [
        "print(X_train.dtypes)"
      ],
      "metadata": {
        "colab": {
          "base_uri": "https://localhost:8080/"
        },
        "id": "tdclQLKpttRi",
        "outputId": "0f2737b5-cecb-46ba-9d77-db16554e49ef"
      },
      "execution_count": 27,
      "outputs": [
        {
          "output_type": "stream",
          "name": "stdout",
          "text": [
            "store_nbr                  int8\n",
            "family                     int8\n",
            "city                       int8\n",
            "state                      int8\n",
            "transactions            float32\n",
            "oil_price               float32\n",
            "locale_name                int8\n",
            "temperature             float32\n",
            "precipitation           float64\n",
            "year                      int16\n",
            "month                      int8\n",
            "day                        int8\n",
            "dayofweek                  int8\n",
            "quarter                    int8\n",
            "days_in_month           float64\n",
            "day_of_year               int16\n",
            "week_of_year               int8\n",
            "onpromotion_True           bool\n",
            "store_type_B               bool\n",
            "store_type_C               bool\n",
            "store_type_D               bool\n",
            "store_type_E               bool\n",
            "perishable_True            bool\n",
            "day_type_Bridge            bool\n",
            "day_type_Event             bool\n",
            "day_type_Holiday           bool\n",
            "day_type_Transfer          bool\n",
            "day_type_Work Day          bool\n",
            "Event Scale_National       bool\n",
            "Event Scale_Non            bool\n",
            "Event Scale_Regional       bool\n",
            "is_weekend_True            bool\n",
            "dtype: object\n"
          ]
        }
      ]
    },
    {
      "cell_type": "code",
      "source": [
        "from statsmodels.stats.outliers_influence import variance_inflation_factor\n",
        "import pandas as pd\n",
        "\n",
        "def calculate_vif(X):\n",
        "    vif_data = pd.DataFrame()\n",
        "    vif_data[\"feature\"] = X.columns\n",
        "    vif_data[\"VIF\"] = [variance_inflation_factor(X.values, i) for i in range(X.shape[1])]\n",
        "    return vif_data"
      ],
      "metadata": {
        "id": "8eBes3NEr1Us"
      },
      "execution_count": 28,
      "outputs": []
    },
    {
      "cell_type": "code",
      "source": [
        "X_vif = X_train.select_dtypes(include=['int8', 'float32', 'int16', 'float64'])\n",
        "X_vif = X_vif.loc[:, X_vif.nunique() > 1]\n",
        "vif_result = calculate_vif(X_vif)\n",
        "print(vif_result)"
      ],
      "metadata": {
        "colab": {
          "base_uri": "https://localhost:8080/"
        },
        "id": "3rUQj9lprbbA",
        "outputId": "a43b6c7d-fcb8-4ea9-eee2-c6bcc124fe32"
      },
      "execution_count": 29,
      "outputs": [
        {
          "output_type": "stream",
          "name": "stdout",
          "text": [
            "          feature       VIF\n",
            "0       store_nbr      4.91\n",
            "1          family      4.21\n",
            "2            city      7.08\n",
            "3           state      7.93\n",
            "4    transactions      1.83\n",
            "5       oil_price     11.57\n",
            "6     temperature      9.90\n",
            "7   precipitation      2.18\n",
            "8            year   2381.85\n",
            "9           month 125433.29\n",
            "10            day    861.94\n",
            "11      dayofweek      3.24\n",
            "12        quarter    109.63\n",
            "13  days_in_month   2888.23\n",
            "14    day_of_year 111377.51\n",
            "15   week_of_year     77.20\n"
          ]
        }
      ]
    },
    {
      "cell_type": "code",
      "source": [
        "gc.collect()"
      ],
      "metadata": {
        "colab": {
          "base_uri": "https://localhost:8080/"
        },
        "id": "ULiW9FATVrex",
        "outputId": "57c45ba8-3f53-4cf4-fadf-5eab4c30c9a9"
      },
      "execution_count": 30,
      "outputs": [
        {
          "output_type": "execute_result",
          "data": {
            "text/plain": [
              "8897"
            ]
          },
          "metadata": {},
          "execution_count": 30
        }
      ]
    },
    {
      "cell_type": "code",
      "source": [
        "# تحديد الأعمدة التي تحتوي على VIF أعلى من حد معين\n",
        "high_vif_columns = vif_result[vif_result['VIF'] > 12]['feature'].tolist()\n",
        "\n",
        "# إزالة هذه الأعمدة من X_train\n",
        "X_train_reduced = X_train.drop(columns=high_vif_columns)\n",
        "\n",
        "# إعادة حساب الـ VIF بعد إزالة الأعمدة ذات الـ VIF المرتفع\n",
        "X_vif = X_train_reduced.select_dtypes(include=['int8', 'float32', 'int16', 'float64'])\n",
        "vif_result_reduced = calculate_vif(X_vif)\n",
        "print(vif_result_reduced)"
      ],
      "metadata": {
        "colab": {
          "base_uri": "https://localhost:8080/"
        },
        "id": "0awgDoV6xsOa",
        "outputId": "ac6449b6-bef9-4f51-f36e-47b26b75fc42"
      },
      "execution_count": 31,
      "outputs": [
        {
          "output_type": "stream",
          "name": "stdout",
          "text": [
            "         feature   VIF\n",
            "0      store_nbr  1.25\n",
            "1         family  1.08\n",
            "2           city  1.44\n",
            "3          state  1.43\n",
            "4   transactions  1.12\n",
            "5      oil_price  1.01\n",
            "6    locale_name 40.87\n",
            "7    temperature  1.23\n",
            "8  precipitation  1.03\n",
            "9      dayofweek  1.00\n"
          ]
        }
      ]
    },
    {
      "cell_type": "code",
      "source": [
        "from scipy.stats import skew\n",
        "\n",
        "skew_value = skew(df['unit_sales'].dropna())\n",
        "print(f\"Skewness: {skew_value}\")"
      ],
      "metadata": {
        "colab": {
          "base_uri": "https://localhost:8080/"
        },
        "id": "h53diFHO44Az",
        "outputId": "1dda4cd8-a018-4c11-a132-e5367b77b109"
      },
      "execution_count": 32,
      "outputs": [
        {
          "output_type": "stream",
          "name": "stdout",
          "text": [
            "Skewness: 7.7669603636459685\n"
          ]
        }
      ]
    },
    {
      "cell_type": "code",
      "source": [
        "y_train_log = np.log1p(y_train)\n",
        "y_val_log = np.log1p(y_val)"
      ],
      "metadata": {
        "id": "aRb35cVY5hsx"
      },
      "execution_count": 33,
      "outputs": []
    },
    {
      "cell_type": "code",
      "source": [
        "X_train_reduced = X_train_reduced.drop(columns=['locale_name'])\n",
        "X_val = X_val.drop(columns=['locale_name'])\n",
        "X_test = X_test.drop(columns=['locale_name'])"
      ],
      "metadata": {
        "id": "mOzWUKrf0FIH"
      },
      "execution_count": 34,
      "outputs": []
    },
    {
      "cell_type": "code",
      "source": [
        "# التحقق من وجود قيم NaN في y_train_log و y_val_log\n",
        "print(\"NaNs in y_train_log:\", y_train_log.isna().sum())\n",
        "print(\"NaNs in y_val_log:\", y_val_log.isna().sum())\n",
        "\n",
        "# إزالة الصفوف التي تحتوي على NaN في y أو X\n",
        "mask_train = ~y_train_log.isna()\n",
        "mask_val = ~y_val_log.isna()\n",
        "\n",
        "X_train_clean = X_train_reduced[mask_train]\n",
        "y_train_clean = y_train_log[mask_train]\n",
        "\n",
        "X_val_clean = X_val[mask_val]\n",
        "y_val_clean = y_val_log[mask_val]"
      ],
      "metadata": {
        "colab": {
          "base_uri": "https://localhost:8080/"
        },
        "id": "3kjRAISgZMdU",
        "outputId": "a4cb1664-744d-470b-e241-64cdefbe8914"
      },
      "execution_count": 35,
      "outputs": [
        {
          "output_type": "stream",
          "name": "stdout",
          "text": [
            "NaNs in y_train_log: 29\n",
            "NaNs in y_val_log: 8\n"
          ]
        }
      ]
    },
    {
      "cell_type": "code",
      "source": [
        "# إزالة القيم السالبة أو غير الصالحة من الهدف قبل التحويل اللوغاريتمي\n",
        "y_train = y_train[y_train > -1]\n",
        "y_val = y_val[y_val > -1]\n",
        "\n",
        "# مطابقة X مع y بعد الفلترة\n",
        "X_train_reduced = X_train_reduced.loc[y_train.index]\n",
        "X_val = X_val.loc[y_val.index]\n",
        "\n",
        "# تحويل log1p بعد التأكد من صحة القيم\n",
        "y_train_log = np.log1p(y_train)\n",
        "y_val_log = np.log1p(y_val)"
      ],
      "metadata": {
        "id": "D_x9WmR_aFV4"
      },
      "execution_count": 36,
      "outputs": []
    },
    {
      "cell_type": "code",
      "source": [
        "# إزالة أي NaN أو inf ناتج\n",
        "train_mask = np.isfinite(y_train_log)\n",
        "val_mask = np.isfinite(y_val_log)\n",
        "\n",
        "X_train_clean = X_train_reduced.loc[train_mask]\n",
        "y_train_clean = y_train_log.loc[train_mask]\n",
        "\n",
        "X_val_clean = X_val.loc[val_mask]\n",
        "y_val_clean = y_val_log.loc[val_mask]"
      ],
      "metadata": {
        "id": "MON6658SaLdI"
      },
      "execution_count": 37,
      "outputs": []
    },
    {
      "cell_type": "code",
      "source": [
        "common_columns = X_train_clean.columns.intersection(X_val_clean.columns)\n",
        "X_train_clean = X_train_clean[common_columns]\n",
        "X_val_clean = X_val_clean[common_columns]"
      ],
      "metadata": {
        "id": "24zGNKN9bU52"
      },
      "execution_count": 38,
      "outputs": []
    },
    {
      "cell_type": "code",
      "source": [
        "ridge = Ridge(alpha=1.0)\n",
        "ridge_result = evaluate_model(\n",
        "    ridge,\n",
        "    X_train_clean,\n",
        "    X_val_clean,\n",
        "    y_train_clean,\n",
        "    y_val_clean,\n",
        "    \"Ridge Regression (VIF Reduced, Log Target)\"\n",
        ")\n",
        "model_results['Ridge Regression (VIF Reduced, Log Target)'] = ridge_result"
      ],
      "metadata": {
        "colab": {
          "base_uri": "https://localhost:8080/"
        },
        "id": "RlBwQ1-FYSoj",
        "outputId": "453e5d9a-8611-42fc-99cd-e0af242b5037"
      },
      "execution_count": 39,
      "outputs": [
        {
          "output_type": "stream",
          "name": "stdout",
          "text": [
            "\n",
            "Ridge Regression (VIF Reduced, Log Target) Evaluation on Validation Set:\n",
            "RMSE: 1.0581\n",
            "MAE: 0.8610\n",
            "R²: 0.7716\n",
            "Training Time: 0.86 seconds\n",
            "Inference Time: 0.11 seconds\n"
          ]
        }
      ]
    },
    {
      "cell_type": "code",
      "source": [
        "y_test_log = np.log1p(y_test)\n",
        "lasso = Lasso(alpha=0.1)\n",
        "lasso_result = evaluate_model(\n",
        "    lasso,\n",
        "    X_train_clean,\n",
        "    X_val_clean,\n",
        "    y_train_clean,\n",
        "    y_val_clean,\n",
        "    \"Lasso Regression (VIF Reduced, Log Target)\"\n",
        ")\n",
        "model_results['Lasso Regression (VIF Reduced, Log Target)'] = lasso_result"
      ],
      "metadata": {
        "colab": {
          "base_uri": "https://localhost:8080/"
        },
        "id": "xpzjWo7IYY7c",
        "outputId": "f5e4243b-c594-48d8-fb5d-8348a5721f1a"
      },
      "execution_count": 40,
      "outputs": [
        {
          "output_type": "stream",
          "name": "stdout",
          "text": [
            "\n",
            "Lasso Regression (VIF Reduced, Log Target) Evaluation on Validation Set:\n",
            "RMSE: 1.0846\n",
            "MAE: 0.9013\n",
            "R²: 0.7600\n",
            "Training Time: 3.89 seconds\n",
            "Inference Time: 0.11 seconds\n"
          ]
        }
      ]
    },
    {
      "cell_type": "code",
      "source": [
        "gc.collect()"
      ],
      "metadata": {
        "colab": {
          "base_uri": "https://localhost:8080/"
        },
        "id": "xc-irx8EgFcI",
        "outputId": "cb39277f-1e4d-4f4f-ed48-aa89f76bcb79"
      },
      "execution_count": 41,
      "outputs": [
        {
          "output_type": "execute_result",
          "data": {
            "text/plain": [
              "0"
            ]
          },
          "metadata": {},
          "execution_count": 41
        }
      ]
    },
    {
      "cell_type": "code",
      "source": [
        "rf = RandomForestRegressor(n_estimators=20, max_depth=10, n_jobs=-1, random_state=42)\n",
        "rf_result = evaluate_model(\n",
        "    rf,\n",
        "    X_train_clean,\n",
        "    X_val_clean,\n",
        "    y_train_clean,\n",
        "    y_val_clean,\n",
        "    \"Random Forest (VIF Reduced, Log Target)\"\n",
        ")\n",
        "model_results['Random Forest (VIF Reduced, Log Target)'] = rf_result"
      ],
      "metadata": {
        "colab": {
          "base_uri": "https://localhost:8080/"
        },
        "id": "G22cgZpDYdQi",
        "outputId": "770ff256-4c6c-4032-b2ae-036a04d79cca"
      },
      "execution_count": 42,
      "outputs": [
        {
          "output_type": "stream",
          "name": "stdout",
          "text": [
            "\n",
            "Random Forest (VIF Reduced, Log Target) Evaluation on Validation Set:\n",
            "RMSE: 0.4184\n",
            "MAE: 0.3094\n",
            "R²: 0.9643\n",
            "Training Time: 207.87 seconds\n",
            "Inference Time: 1.35 seconds\n"
          ]
        }
      ]
    },
    {
      "cell_type": "code",
      "source": [
        "gb = GradientBoostingRegressor(\n",
        "    n_estimators=70,\n",
        "    learning_rate=0.05,\n",
        "    max_depth=4,\n",
        "    subsample=0.8,\n",
        "    min_samples_leaf=3,\n",
        "    min_samples_split=5,\n",
        "    random_state=42\n",
        ")\n",
        "gb_result = evaluate_model(\n",
        "    gb,\n",
        "    X_train_clean,\n",
        "    X_val_clean,\n",
        "    y_train_clean,\n",
        "    y_val_clean,\n",
        "    \"Gradient Boosting (VIF Reduced, Log Target)\"\n",
        ")\n",
        "model_results['Gradient Boosting (VIF Reduced, Log Target)'] = gb_result"
      ],
      "metadata": {
        "id": "-KrDC8WjYisb",
        "colab": {
          "base_uri": "https://localhost:8080/"
        },
        "outputId": "fa1db1f8-6f20-4f0d-979d-5182c9d12ac9"
      },
      "execution_count": 43,
      "outputs": [
        {
          "output_type": "stream",
          "name": "stdout",
          "text": [
            "\n",
            "Gradient Boosting (VIF Reduced, Log Target) Evaluation on Validation Set:\n",
            "RMSE: 0.5228\n",
            "MAE: 0.4010\n",
            "R²: 0.9442\n",
            "Training Time: 491.49 seconds\n",
            "Inference Time: 1.42 seconds\n"
          ]
        }
      ]
    },
    {
      "cell_type": "code",
      "source": [
        "gc.collect()"
      ],
      "metadata": {
        "colab": {
          "base_uri": "https://localhost:8080/"
        },
        "id": "SxuTELnhlmqi",
        "outputId": "4e94ccc2-490f-4c1c-d7c7-e93ca19b7d70"
      },
      "execution_count": 54,
      "outputs": [
        {
          "output_type": "execute_result",
          "data": {
            "text/plain": [
              "0"
            ]
          },
          "metadata": {},
          "execution_count": 54
        }
      ]
    },
    {
      "cell_type": "code",
      "source": [
        "xgb_model = xgb.XGBRegressor(\n",
        "    n_estimators=70,\n",
        "    learning_rate=0.05,\n",
        "    max_depth=4,\n",
        "    subsample=0.8,\n",
        "    colsample_bytree=0.8,\n",
        "    min_child_weight=3,\n",
        "    n_jobs=-1,\n",
        "    random_state=42\n",
        ")\n",
        "xgb_result = evaluate_model(\n",
        "    xgb_model,\n",
        "    X_train_clean,\n",
        "    X_val_clean,\n",
        "    y_train_clean,\n",
        "    y_val_clean,\n",
        "    \"XGBoost (VIF Reduced, Log Target)\"\n",
        ")\n",
        "model_results['XGBoost (VIF Reduced, Log Target)'] = xgb_result"
      ],
      "metadata": {
        "id": "rqKgrNBMYli1",
        "colab": {
          "base_uri": "https://localhost:8080/"
        },
        "outputId": "615b13d8-edb5-4834-aff6-0eb1b8c7ae50"
      },
      "execution_count": 44,
      "outputs": [
        {
          "output_type": "stream",
          "name": "stdout",
          "text": [
            "\n",
            "XGBoost (VIF Reduced, Log Target) Evaluation on Validation Set:\n",
            "RMSE: 0.5345\n",
            "MAE: 0.4085\n",
            "R²: 0.9417\n",
            "Training Time: 23.93 seconds\n",
            "Inference Time: 0.75 seconds\n"
          ]
        }
      ]
    },
    {
      "cell_type": "code",
      "source": [
        "import lightgbm as lgb\n",
        "from lightgbm.callback import early_stopping\n",
        "\n",
        "# LightGBM مع تقليل الذاكرة و early stopping\n",
        "lgb_model = lgb.LGBMRegressor(\n",
        "    n_estimators=200,  # زيادة عدد الأشجار\n",
        "    learning_rate=0.05,  # تقليل معدل التعلم للحصول على استقرار أفضل\n",
        "    max_depth=4,  # تحديد عمق الأشجار\n",
        "    num_leaves=31,  # عدد الأوراق\n",
        "    min_child_samples=20,  # الحد الأدنى لعدد العينات في العقدة\n",
        "    n_jobs=-1,  # الاستفادة من جميع الأنوية\n",
        "    random_state=42,\n",
        "    verbose=-1  # Move verbose to the model parameters\n",
        ")\n",
        "\n",
        "# الطريقة الصحيحة للتدريب مع early stopping في واجهة sklearn\n",
        "lgb_model.fit(\n",
        "    X_train_clean,\n",
        "    y_train_clean,\n",
        "    eval_set=[(X_val_clean, y_val_clean)],\n",
        "    eval_metric='rmse',  # مقياس التقييم\n",
        "    callbacks=[early_stopping(stopping_rounds=10, verbose=True)]\n",
        ")\n",
        "\n",
        "# تقييم النموذج\n",
        "lgb_result = evaluate_model(\n",
        "    lgb_model,\n",
        "    X_train_clean,\n",
        "    X_val_clean,\n",
        "    y_train_clean,\n",
        "    y_val_clean,\n",
        "    \"LightGBM (VIF Reduced, Log Target)\"\n",
        ")\n",
        "model_results['LightGBM (VIF Reduced, Log Target)'] = lgb_result"
      ],
      "metadata": {
        "id": "WfPUuGOoYoPZ",
        "colab": {
          "base_uri": "https://localhost:8080/"
        },
        "outputId": "9558f049-d148-49ad-e361-5bc5ab73f12c"
      },
      "execution_count": 45,
      "outputs": [
        {
          "output_type": "stream",
          "name": "stdout",
          "text": [
            "Training until validation scores don't improve for 10 rounds\n",
            "Did not meet early stopping. Best iteration is:\n",
            "[200]\tvalid_0's rmse: 0.442664\tvalid_0's l2: 0.195951\n",
            "\n",
            "LightGBM (VIF Reduced, Log Target) Evaluation on Validation Set:\n",
            "RMSE: 0.4427\n",
            "MAE: 0.3330\n",
            "R²: 0.9600\n",
            "Training Time: 19.92 seconds\n",
            "Inference Time: 4.30 seconds\n"
          ]
        }
      ]
    },
    {
      "cell_type": "code",
      "source": [
        "# Create a DataFrame to compare model performances\n",
        "performance_df = pd.DataFrame({\n",
        "    'Model': [result['model_name'] for result in model_results.values()],\n",
        "    'RMSE': [result['rmse'] for result in model_results.values()],\n",
        "    'MAE': [result['mae'] for result in model_results.values()],\n",
        "    'R²': [result['r2'] for result in model_results.values()],\n",
        "    'Training Time (s)': [result['train_time'] for result in model_results.values()],\n",
        "    'Inference Time (s)': [result['inference_time'] for result in model_results.values()],\n",
        "})\n",
        "\n",
        "# عرض DataFrame للمقارنة\n",
        "performance_df.sort_values(by='RMSE', ascending=True, inplace=True)  # ترتيب النماذج حسب الـ RMSE الأقل\n",
        "performance_df"
      ],
      "metadata": {
        "id": "YE7jeDA_YryZ",
        "colab": {
          "base_uri": "https://localhost:8080/",
          "height": 238
        },
        "outputId": "27834d91-1282-4197-ea63-86286a8a3042"
      },
      "execution_count": 46,
      "outputs": [
        {
          "output_type": "execute_result",
          "data": {
            "text/plain": [
              "                                         Model  RMSE  MAE   R²  \\\n",
              "2      Random Forest (VIF Reduced, Log Target)  0.42 0.31 0.96   \n",
              "5           LightGBM (VIF Reduced, Log Target)  0.44 0.33 0.96   \n",
              "3  Gradient Boosting (VIF Reduced, Log Target)  0.52 0.40 0.94   \n",
              "4            XGBoost (VIF Reduced, Log Target)  0.53 0.41 0.94   \n",
              "0   Ridge Regression (VIF Reduced, Log Target)  1.06 0.86 0.77   \n",
              "1   Lasso Regression (VIF Reduced, Log Target)  1.08 0.90 0.76   \n",
              "\n",
              "   Training Time (s)  Inference Time (s)  \n",
              "2             207.87                1.35  \n",
              "5              19.92                4.30  \n",
              "3             491.49                1.42  \n",
              "4              23.93                0.75  \n",
              "0               0.86                0.11  \n",
              "1               3.89                0.11  "
            ],
            "text/html": [
              "\n",
              "  <div id=\"df-5c472c4a-50ec-4e34-a51e-e2dd7a5d5d15\" class=\"colab-df-container\">\n",
              "    <div>\n",
              "<style scoped>\n",
              "    .dataframe tbody tr th:only-of-type {\n",
              "        vertical-align: middle;\n",
              "    }\n",
              "\n",
              "    .dataframe tbody tr th {\n",
              "        vertical-align: top;\n",
              "    }\n",
              "\n",
              "    .dataframe thead th {\n",
              "        text-align: right;\n",
              "    }\n",
              "</style>\n",
              "<table border=\"1\" class=\"dataframe\">\n",
              "  <thead>\n",
              "    <tr style=\"text-align: right;\">\n",
              "      <th></th>\n",
              "      <th>Model</th>\n",
              "      <th>RMSE</th>\n",
              "      <th>MAE</th>\n",
              "      <th>R²</th>\n",
              "      <th>Training Time (s)</th>\n",
              "      <th>Inference Time (s)</th>\n",
              "    </tr>\n",
              "  </thead>\n",
              "  <tbody>\n",
              "    <tr>\n",
              "      <th>2</th>\n",
              "      <td>Random Forest (VIF Reduced, Log Target)</td>\n",
              "      <td>0.42</td>\n",
              "      <td>0.31</td>\n",
              "      <td>0.96</td>\n",
              "      <td>207.87</td>\n",
              "      <td>1.35</td>\n",
              "    </tr>\n",
              "    <tr>\n",
              "      <th>5</th>\n",
              "      <td>LightGBM (VIF Reduced, Log Target)</td>\n",
              "      <td>0.44</td>\n",
              "      <td>0.33</td>\n",
              "      <td>0.96</td>\n",
              "      <td>19.92</td>\n",
              "      <td>4.30</td>\n",
              "    </tr>\n",
              "    <tr>\n",
              "      <th>3</th>\n",
              "      <td>Gradient Boosting (VIF Reduced, Log Target)</td>\n",
              "      <td>0.52</td>\n",
              "      <td>0.40</td>\n",
              "      <td>0.94</td>\n",
              "      <td>491.49</td>\n",
              "      <td>1.42</td>\n",
              "    </tr>\n",
              "    <tr>\n",
              "      <th>4</th>\n",
              "      <td>XGBoost (VIF Reduced, Log Target)</td>\n",
              "      <td>0.53</td>\n",
              "      <td>0.41</td>\n",
              "      <td>0.94</td>\n",
              "      <td>23.93</td>\n",
              "      <td>0.75</td>\n",
              "    </tr>\n",
              "    <tr>\n",
              "      <th>0</th>\n",
              "      <td>Ridge Regression (VIF Reduced, Log Target)</td>\n",
              "      <td>1.06</td>\n",
              "      <td>0.86</td>\n",
              "      <td>0.77</td>\n",
              "      <td>0.86</td>\n",
              "      <td>0.11</td>\n",
              "    </tr>\n",
              "    <tr>\n",
              "      <th>1</th>\n",
              "      <td>Lasso Regression (VIF Reduced, Log Target)</td>\n",
              "      <td>1.08</td>\n",
              "      <td>0.90</td>\n",
              "      <td>0.76</td>\n",
              "      <td>3.89</td>\n",
              "      <td>0.11</td>\n",
              "    </tr>\n",
              "  </tbody>\n",
              "</table>\n",
              "</div>\n",
              "    <div class=\"colab-df-buttons\">\n",
              "\n",
              "  <div class=\"colab-df-container\">\n",
              "    <button class=\"colab-df-convert\" onclick=\"convertToInteractive('df-5c472c4a-50ec-4e34-a51e-e2dd7a5d5d15')\"\n",
              "            title=\"Convert this dataframe to an interactive table.\"\n",
              "            style=\"display:none;\">\n",
              "\n",
              "  <svg xmlns=\"http://www.w3.org/2000/svg\" height=\"24px\" viewBox=\"0 -960 960 960\">\n",
              "    <path d=\"M120-120v-720h720v720H120Zm60-500h600v-160H180v160Zm220 220h160v-160H400v160Zm0 220h160v-160H400v160ZM180-400h160v-160H180v160Zm440 0h160v-160H620v160ZM180-180h160v-160H180v160Zm440 0h160v-160H620v160Z\"/>\n",
              "  </svg>\n",
              "    </button>\n",
              "\n",
              "  <style>\n",
              "    .colab-df-container {\n",
              "      display:flex;\n",
              "      gap: 12px;\n",
              "    }\n",
              "\n",
              "    .colab-df-convert {\n",
              "      background-color: #E8F0FE;\n",
              "      border: none;\n",
              "      border-radius: 50%;\n",
              "      cursor: pointer;\n",
              "      display: none;\n",
              "      fill: #1967D2;\n",
              "      height: 32px;\n",
              "      padding: 0 0 0 0;\n",
              "      width: 32px;\n",
              "    }\n",
              "\n",
              "    .colab-df-convert:hover {\n",
              "      background-color: #E2EBFA;\n",
              "      box-shadow: 0px 1px 2px rgba(60, 64, 67, 0.3), 0px 1px 3px 1px rgba(60, 64, 67, 0.15);\n",
              "      fill: #174EA6;\n",
              "    }\n",
              "\n",
              "    .colab-df-buttons div {\n",
              "      margin-bottom: 4px;\n",
              "    }\n",
              "\n",
              "    [theme=dark] .colab-df-convert {\n",
              "      background-color: #3B4455;\n",
              "      fill: #D2E3FC;\n",
              "    }\n",
              "\n",
              "    [theme=dark] .colab-df-convert:hover {\n",
              "      background-color: #434B5C;\n",
              "      box-shadow: 0px 1px 3px 1px rgba(0, 0, 0, 0.15);\n",
              "      filter: drop-shadow(0px 1px 2px rgba(0, 0, 0, 0.3));\n",
              "      fill: #FFFFFF;\n",
              "    }\n",
              "  </style>\n",
              "\n",
              "    <script>\n",
              "      const buttonEl =\n",
              "        document.querySelector('#df-5c472c4a-50ec-4e34-a51e-e2dd7a5d5d15 button.colab-df-convert');\n",
              "      buttonEl.style.display =\n",
              "        google.colab.kernel.accessAllowed ? 'block' : 'none';\n",
              "\n",
              "      async function convertToInteractive(key) {\n",
              "        const element = document.querySelector('#df-5c472c4a-50ec-4e34-a51e-e2dd7a5d5d15');\n",
              "        const dataTable =\n",
              "          await google.colab.kernel.invokeFunction('convertToInteractive',\n",
              "                                                    [key], {});\n",
              "        if (!dataTable) return;\n",
              "\n",
              "        const docLinkHtml = 'Like what you see? Visit the ' +\n",
              "          '<a target=\"_blank\" href=https://colab.research.google.com/notebooks/data_table.ipynb>data table notebook</a>'\n",
              "          + ' to learn more about interactive tables.';\n",
              "        element.innerHTML = '';\n",
              "        dataTable['output_type'] = 'display_data';\n",
              "        await google.colab.output.renderOutput(dataTable, element);\n",
              "        const docLink = document.createElement('div');\n",
              "        docLink.innerHTML = docLinkHtml;\n",
              "        element.appendChild(docLink);\n",
              "      }\n",
              "    </script>\n",
              "  </div>\n",
              "\n",
              "\n",
              "    <div id=\"df-5ebb46a2-d13e-417c-bbb2-2e72b346b485\">\n",
              "      <button class=\"colab-df-quickchart\" onclick=\"quickchart('df-5ebb46a2-d13e-417c-bbb2-2e72b346b485')\"\n",
              "                title=\"Suggest charts\"\n",
              "                style=\"display:none;\">\n",
              "\n",
              "<svg xmlns=\"http://www.w3.org/2000/svg\" height=\"24px\"viewBox=\"0 0 24 24\"\n",
              "     width=\"24px\">\n",
              "    <g>\n",
              "        <path d=\"M19 3H5c-1.1 0-2 .9-2 2v14c0 1.1.9 2 2 2h14c1.1 0 2-.9 2-2V5c0-1.1-.9-2-2-2zM9 17H7v-7h2v7zm4 0h-2V7h2v10zm4 0h-2v-4h2v4z\"/>\n",
              "    </g>\n",
              "</svg>\n",
              "      </button>\n",
              "\n",
              "<style>\n",
              "  .colab-df-quickchart {\n",
              "      --bg-color: #E8F0FE;\n",
              "      --fill-color: #1967D2;\n",
              "      --hover-bg-color: #E2EBFA;\n",
              "      --hover-fill-color: #174EA6;\n",
              "      --disabled-fill-color: #AAA;\n",
              "      --disabled-bg-color: #DDD;\n",
              "  }\n",
              "\n",
              "  [theme=dark] .colab-df-quickchart {\n",
              "      --bg-color: #3B4455;\n",
              "      --fill-color: #D2E3FC;\n",
              "      --hover-bg-color: #434B5C;\n",
              "      --hover-fill-color: #FFFFFF;\n",
              "      --disabled-bg-color: #3B4455;\n",
              "      --disabled-fill-color: #666;\n",
              "  }\n",
              "\n",
              "  .colab-df-quickchart {\n",
              "    background-color: var(--bg-color);\n",
              "    border: none;\n",
              "    border-radius: 50%;\n",
              "    cursor: pointer;\n",
              "    display: none;\n",
              "    fill: var(--fill-color);\n",
              "    height: 32px;\n",
              "    padding: 0;\n",
              "    width: 32px;\n",
              "  }\n",
              "\n",
              "  .colab-df-quickchart:hover {\n",
              "    background-color: var(--hover-bg-color);\n",
              "    box-shadow: 0 1px 2px rgba(60, 64, 67, 0.3), 0 1px 3px 1px rgba(60, 64, 67, 0.15);\n",
              "    fill: var(--button-hover-fill-color);\n",
              "  }\n",
              "\n",
              "  .colab-df-quickchart-complete:disabled,\n",
              "  .colab-df-quickchart-complete:disabled:hover {\n",
              "    background-color: var(--disabled-bg-color);\n",
              "    fill: var(--disabled-fill-color);\n",
              "    box-shadow: none;\n",
              "  }\n",
              "\n",
              "  .colab-df-spinner {\n",
              "    border: 2px solid var(--fill-color);\n",
              "    border-color: transparent;\n",
              "    border-bottom-color: var(--fill-color);\n",
              "    animation:\n",
              "      spin 1s steps(1) infinite;\n",
              "  }\n",
              "\n",
              "  @keyframes spin {\n",
              "    0% {\n",
              "      border-color: transparent;\n",
              "      border-bottom-color: var(--fill-color);\n",
              "      border-left-color: var(--fill-color);\n",
              "    }\n",
              "    20% {\n",
              "      border-color: transparent;\n",
              "      border-left-color: var(--fill-color);\n",
              "      border-top-color: var(--fill-color);\n",
              "    }\n",
              "    30% {\n",
              "      border-color: transparent;\n",
              "      border-left-color: var(--fill-color);\n",
              "      border-top-color: var(--fill-color);\n",
              "      border-right-color: var(--fill-color);\n",
              "    }\n",
              "    40% {\n",
              "      border-color: transparent;\n",
              "      border-right-color: var(--fill-color);\n",
              "      border-top-color: var(--fill-color);\n",
              "    }\n",
              "    60% {\n",
              "      border-color: transparent;\n",
              "      border-right-color: var(--fill-color);\n",
              "    }\n",
              "    80% {\n",
              "      border-color: transparent;\n",
              "      border-right-color: var(--fill-color);\n",
              "      border-bottom-color: var(--fill-color);\n",
              "    }\n",
              "    90% {\n",
              "      border-color: transparent;\n",
              "      border-bottom-color: var(--fill-color);\n",
              "    }\n",
              "  }\n",
              "</style>\n",
              "\n",
              "      <script>\n",
              "        async function quickchart(key) {\n",
              "          const quickchartButtonEl =\n",
              "            document.querySelector('#' + key + ' button');\n",
              "          quickchartButtonEl.disabled = true;  // To prevent multiple clicks.\n",
              "          quickchartButtonEl.classList.add('colab-df-spinner');\n",
              "          try {\n",
              "            const charts = await google.colab.kernel.invokeFunction(\n",
              "                'suggestCharts', [key], {});\n",
              "          } catch (error) {\n",
              "            console.error('Error during call to suggestCharts:', error);\n",
              "          }\n",
              "          quickchartButtonEl.classList.remove('colab-df-spinner');\n",
              "          quickchartButtonEl.classList.add('colab-df-quickchart-complete');\n",
              "        }\n",
              "        (() => {\n",
              "          let quickchartButtonEl =\n",
              "            document.querySelector('#df-5ebb46a2-d13e-417c-bbb2-2e72b346b485 button');\n",
              "          quickchartButtonEl.style.display =\n",
              "            google.colab.kernel.accessAllowed ? 'block' : 'none';\n",
              "        })();\n",
              "      </script>\n",
              "    </div>\n",
              "\n",
              "  <div id=\"id_a8520129-2d18-4b7f-9c19-f6a38253f248\">\n",
              "    <style>\n",
              "      .colab-df-generate {\n",
              "        background-color: #E8F0FE;\n",
              "        border: none;\n",
              "        border-radius: 50%;\n",
              "        cursor: pointer;\n",
              "        display: none;\n",
              "        fill: #1967D2;\n",
              "        height: 32px;\n",
              "        padding: 0 0 0 0;\n",
              "        width: 32px;\n",
              "      }\n",
              "\n",
              "      .colab-df-generate:hover {\n",
              "        background-color: #E2EBFA;\n",
              "        box-shadow: 0px 1px 2px rgba(60, 64, 67, 0.3), 0px 1px 3px 1px rgba(60, 64, 67, 0.15);\n",
              "        fill: #174EA6;\n",
              "      }\n",
              "\n",
              "      [theme=dark] .colab-df-generate {\n",
              "        background-color: #3B4455;\n",
              "        fill: #D2E3FC;\n",
              "      }\n",
              "\n",
              "      [theme=dark] .colab-df-generate:hover {\n",
              "        background-color: #434B5C;\n",
              "        box-shadow: 0px 1px 3px 1px rgba(0, 0, 0, 0.15);\n",
              "        filter: drop-shadow(0px 1px 2px rgba(0, 0, 0, 0.3));\n",
              "        fill: #FFFFFF;\n",
              "      }\n",
              "    </style>\n",
              "    <button class=\"colab-df-generate\" onclick=\"generateWithVariable('performance_df')\"\n",
              "            title=\"Generate code using this dataframe.\"\n",
              "            style=\"display:none;\">\n",
              "\n",
              "  <svg xmlns=\"http://www.w3.org/2000/svg\" height=\"24px\"viewBox=\"0 0 24 24\"\n",
              "       width=\"24px\">\n",
              "    <path d=\"M7,19H8.4L18.45,9,17,7.55,7,17.6ZM5,21V16.75L18.45,3.32a2,2,0,0,1,2.83,0l1.4,1.43a1.91,1.91,0,0,1,.58,1.4,1.91,1.91,0,0,1-.58,1.4L9.25,21ZM18.45,9,17,7.55Zm-12,3A5.31,5.31,0,0,0,4.9,8.1,5.31,5.31,0,0,0,1,6.5,5.31,5.31,0,0,0,4.9,4.9,5.31,5.31,0,0,0,6.5,1,5.31,5.31,0,0,0,8.1,4.9,5.31,5.31,0,0,0,12,6.5,5.46,5.46,0,0,0,6.5,12Z\"/>\n",
              "  </svg>\n",
              "    </button>\n",
              "    <script>\n",
              "      (() => {\n",
              "      const buttonEl =\n",
              "        document.querySelector('#id_a8520129-2d18-4b7f-9c19-f6a38253f248 button.colab-df-generate');\n",
              "      buttonEl.style.display =\n",
              "        google.colab.kernel.accessAllowed ? 'block' : 'none';\n",
              "\n",
              "      buttonEl.onclick = () => {\n",
              "        google.colab.notebook.generateWithVariable('performance_df');\n",
              "      }\n",
              "      })();\n",
              "    </script>\n",
              "  </div>\n",
              "\n",
              "    </div>\n",
              "  </div>\n"
            ],
            "application/vnd.google.colaboratory.intrinsic+json": {
              "type": "dataframe",
              "variable_name": "performance_df",
              "summary": "{\n  \"name\": \"performance_df\",\n  \"rows\": 6,\n  \"fields\": [\n    {\n      \"column\": \"Model\",\n      \"properties\": {\n        \"dtype\": \"string\",\n        \"num_unique_values\": 6,\n        \"samples\": [\n          \"Random Forest (VIF Reduced, Log Target)\",\n          \"LightGBM (VIF Reduced, Log Target)\",\n          \"Lasso Regression (VIF Reduced, Log Target)\"\n        ],\n        \"semantic_type\": \"\",\n        \"description\": \"\"\n      }\n    },\n    {\n      \"column\": \"RMSE\",\n      \"properties\": {\n        \"dtype\": \"number\",\n        \"std\": 0.3089629725198117,\n        \"min\": 0.4183821343417172,\n        \"max\": 1.0846092571285588,\n        \"num_unique_values\": 6,\n        \"samples\": [\n          0.4183821343417172,\n          0.4426637513621344,\n          1.0846092571285588\n        ],\n        \"semantic_type\": \"\",\n        \"description\": \"\"\n      }\n    },\n    {\n      \"column\": \"MAE\",\n      \"properties\": {\n        \"dtype\": \"number\",\n        \"std\": 0.2705840331153914,\n        \"min\": 0.3094085690330538,\n        \"max\": 0.9013177275330783,\n        \"num_unique_values\": 6,\n        \"samples\": [\n          0.3094085690330538,\n          0.33303954987881906,\n          0.9013177275330783\n        ],\n        \"semantic_type\": \"\",\n        \"description\": \"\"\n      }\n    },\n    {\n      \"column\": \"R\\u00b2\",\n      \"properties\": {\n        \"dtype\": \"number\",\n        \"std\": 0.09690842493905716,\n        \"min\": 0.7600178850938915,\n        \"max\": 0.9642909312100092,\n        \"num_unique_values\": 6,\n        \"samples\": [\n          0.9642909312100092,\n          0.9600257629998816,\n          0.7600178850938915\n        ],\n        \"semantic_type\": \"\",\n        \"description\": \"\"\n      }\n    },\n    {\n      \"column\": \"Training Time (s)\",\n      \"properties\": {\n        \"dtype\": \"number\",\n        \"std\": 196.22143796669815,\n        \"min\": 0.8611345291137695,\n        \"max\": 491.4868197441101,\n        \"num_unique_values\": 6,\n        \"samples\": [\n          207.86885452270508,\n          19.91942811012268,\n          3.8906033039093018\n        ],\n        \"semantic_type\": \"\",\n        \"description\": \"\"\n      }\n    },\n    {\n      \"column\": \"Inference Time (s)\",\n      \"properties\": {\n        \"dtype\": \"number\",\n        \"std\": 1.5581308004270076,\n        \"min\": 0.10692381858825684,\n        \"max\": 4.297544240951538,\n        \"num_unique_values\": 6,\n        \"samples\": [\n          1.3545515537261963,\n          4.297544240951538,\n          0.10964202880859375\n        ],\n        \"semantic_type\": \"\",\n        \"description\": \"\"\n      }\n    }\n  ]\n}"
            }
          },
          "metadata": {},
          "execution_count": 46
        }
      ]
    },
    {
      "cell_type": "markdown",
      "source": [
        "الملاحظات:\n",
        "Random Forest و LightGBM هما الأفضل في هذا التقييم بناءً على RMSE و R² المرتفع.\n",
        "\n",
        "Ridge و Lasso Regression أظهروا نتائج أضعف في الـ RMSE و R² مقارنة بـ Random Forest و LightGBM.\n",
        "\n",
        "XGBoost و Gradient Boosting قريبان من بعضهما البعض من حيث الأداء، لكن XGBoost أسرع في وقت الاستدلال.\n",
        "\n",
        "هل ترغب في تحسين أو تعديل أي شيء في هذه المقارنة؟"
      ],
      "metadata": {
        "id": "PqljxL2URxg_"
      }
    },
    {
      "cell_type": "code",
      "source": [
        "print(\"\\nModel Performance Comparison:\")\n",
        "print(performance_df[['Model', 'RMSE', 'MAE', 'R²', 'Training Time (s)', 'Inference Time (s)']].sort_values('RMSE'))"
      ],
      "metadata": {
        "id": "zUTSwdJmZ1PB",
        "colab": {
          "base_uri": "https://localhost:8080/"
        },
        "outputId": "516f81e2-a0d0-41a0-c15b-90d42b9f38d4"
      },
      "execution_count": 47,
      "outputs": [
        {
          "output_type": "stream",
          "name": "stdout",
          "text": [
            "\n",
            "Model Performance Comparison:\n",
            "                                         Model  RMSE  MAE   R²  \\\n",
            "2      Random Forest (VIF Reduced, Log Target)  0.42 0.31 0.96   \n",
            "5           LightGBM (VIF Reduced, Log Target)  0.44 0.33 0.96   \n",
            "3  Gradient Boosting (VIF Reduced, Log Target)  0.52 0.40 0.94   \n",
            "4            XGBoost (VIF Reduced, Log Target)  0.53 0.41 0.94   \n",
            "0   Ridge Regression (VIF Reduced, Log Target)  1.06 0.86 0.77   \n",
            "1   Lasso Regression (VIF Reduced, Log Target)  1.08 0.90 0.76   \n",
            "\n",
            "   Training Time (s)  Inference Time (s)  \n",
            "2             207.87                1.35  \n",
            "5              19.92                4.30  \n",
            "3             491.49                1.42  \n",
            "4              23.93                0.75  \n",
            "0               0.86                0.11  \n",
            "1               3.89                0.11  \n"
          ]
        }
      ]
    },
    {
      "cell_type": "code",
      "source": [
        "plt.figure(figsize=(14, 8))"
      ],
      "metadata": {
        "id": "8s65K4xWZ-QD",
        "colab": {
          "base_uri": "https://localhost:8080/",
          "height": 52
        },
        "outputId": "4dc9c324-dc16-484f-b5b3-253233102caa"
      },
      "execution_count": 48,
      "outputs": [
        {
          "output_type": "execute_result",
          "data": {
            "text/plain": [
              "<Figure size 1400x800 with 0 Axes>"
            ]
          },
          "metadata": {},
          "execution_count": 48
        },
        {
          "output_type": "display_data",
          "data": {
            "text/plain": [
              "<Figure size 1400x800 with 0 Axes>"
            ]
          },
          "metadata": {}
        }
      ]
    },
    {
      "cell_type": "code",
      "source": [
        "# RMSE comparison\n",
        "plt.subplot(2, 2, 1)\n",
        "sns.barplot(x='Model', y='RMSE', data=performance_df.sort_values('RMSE'))\n",
        "plt.title('RMSE by Model')\n",
        "plt.xticks(rotation=45, ha='right')"
      ],
      "metadata": {
        "id": "zuf5tM1kaBa9",
        "colab": {
          "base_uri": "https://localhost:8080/",
          "height": 606
        },
        "outputId": "c037ba62-35bb-4031-c094-1845caf9ad40"
      },
      "execution_count": 49,
      "outputs": [
        {
          "output_type": "execute_result",
          "data": {
            "text/plain": [
              "([0, 1, 2, 3, 4, 5],\n",
              " [Text(0, 0, 'Random Forest (VIF Reduced, Log Target)'),\n",
              "  Text(1, 0, 'LightGBM (VIF Reduced, Log Target)'),\n",
              "  Text(2, 0, 'Gradient Boosting (VIF Reduced, Log Target)'),\n",
              "  Text(3, 0, 'XGBoost (VIF Reduced, Log Target)'),\n",
              "  Text(4, 0, 'Ridge Regression (VIF Reduced, Log Target)'),\n",
              "  Text(5, 0, 'Lasso Regression (VIF Reduced, Log Target)')])"
            ]
          },
          "metadata": {},
          "execution_count": 49
        },
        {
          "output_type": "display_data",
          "data": {
            "text/plain": [
              "<Figure size 640x480 with 1 Axes>"
            ],
            "image/png": "[encoded data removed]"
          },
          "metadata": {}
        }
      ]
    },
    {
      "cell_type": "code",
      "source": [
        "# MAE comparison\n",
        "plt.subplot(2, 2, 2)\n",
        "sns.barplot(x='Model', y='MAE', data=performance_df.sort_values('MAE'))\n",
        "plt.title('MAE by Model')\n",
        "plt.xticks(rotation=45, ha='right')"
      ],
      "metadata": {
        "id": "iHYfBqrfaE70",
        "colab": {
          "base_uri": "https://localhost:8080/",
          "height": 606
        },
        "outputId": "f705f739-224a-4e2e-c0c7-1695996218b8"
      },
      "execution_count": 50,
      "outputs": [
        {
          "output_type": "execute_result",
          "data": {
            "text/plain": [
              "([0, 1, 2, 3, 4, 5],\n",
              " [Text(0, 0, 'Random Forest (VIF Reduced, Log Target)'),\n",
              "  Text(1, 0, 'LightGBM (VIF Reduced, Log Target)'),\n",
              "  Text(2, 0, 'Gradient Boosting (VIF Reduced, Log Target)'),\n",
              "  Text(3, 0, 'XGBoost (VIF Reduced, Log Target)'),\n",
              "  Text(4, 0, 'Ridge Regression (VIF Reduced, Log Target)'),\n",
              "  Text(5, 0, 'Lasso Regression (VIF Reduced, Log Target)')])"
            ]
          },
          "metadata": {},
          "execution_count": 50
        },
        {
          "output_type": "display_data",
          "data": {
            "text/plain": [
              "<Figure size 640x480 with 1 Axes>"
            ],
            "image/png": "[encoded data removed]"
          },
          "metadata": {}
        }
      ]
    },
    {
      "cell_type": "code",
      "source": [
        "# R² comparison\n",
        "plt.subplot(2, 2, 3)\n",
        "sns.barplot(x='Model', y='R²', data=performance_df.sort_values('R²', ascending=False))\n",
        "plt.title('R² by Model')\n",
        "plt.xticks(rotation=45, ha='right')"
      ],
      "metadata": {
        "id": "4CmTNp7eaFwY",
        "colab": {
          "base_uri": "https://localhost:8080/",
          "height": 606
        },
        "outputId": "1f8c4a31-86df-4faa-ba53-747faee95b34"
      },
      "execution_count": 51,
      "outputs": [
        {
          "output_type": "execute_result",
          "data": {
            "text/plain": [
              "([0, 1, 2, 3, 4, 5],\n",
              " [Text(0, 0, 'Random Forest (VIF Reduced, Log Target)'),\n",
              "  Text(1, 0, 'LightGBM (VIF Reduced, Log Target)'),\n",
              "  Text(2, 0, 'Gradient Boosting (VIF Reduced, Log Target)'),\n",
              "  Text(3, 0, 'XGBoost (VIF Reduced, Log Target)'),\n",
              "  Text(4, 0, 'Ridge Regression (VIF Reduced, Log Target)'),\n",
              "  Text(5, 0, 'Lasso Regression (VIF Reduced, Log Target)')])"
            ]
          },
          "metadata": {},
          "execution_count": 51
        },
        {
          "output_type": "display_data",
          "data": {
            "text/plain": [
              "<Figure size 640x480 with 1 Axes>"
            ],
            "image/png": "[encoded data removed]"
          },
          "metadata": {}
        }
      ]
    },
    {
      "cell_type": "code",
      "source": [
        "# Training time comparison\n",
        "plt.subplot(2, 2, 4)\n",
        "sns.barplot(x='Model', y='Training Time (s)', data=performance_df.sort_values('Training Time (s)'))\n",
        "plt.title('Training Time by Model')\n",
        "plt.xticks(rotation=45, ha='right')"
      ],
      "metadata": {
        "id": "qHpCaURxaH9v",
        "colab": {
          "base_uri": "https://localhost:8080/",
          "height": 606
        },
        "outputId": "8d2c2ff3-c1bd-42fb-b272-b5f5f3d645b8"
      },
      "execution_count": 52,
      "outputs": [
        {
          "output_type": "execute_result",
          "data": {
            "text/plain": [
              "([0, 1, 2, 3, 4, 5],\n",
              " [Text(0, 0, 'Ridge Regression (VIF Reduced, Log Target)'),\n",
              "  Text(1, 0, 'Lasso Regression (VIF Reduced, Log Target)'),\n",
              "  Text(2, 0, 'LightGBM (VIF Reduced, Log Target)'),\n",
              "  Text(3, 0, 'XGBoost (VIF Reduced, Log Target)'),\n",
              "  Text(4, 0, 'Random Forest (VIF Reduced, Log Target)'),\n",
              "  Text(5, 0, 'Gradient Boosting (VIF Reduced, Log Target)')])"
            ]
          },
          "metadata": {},
          "execution_count": 52
        },
        {
          "output_type": "display_data",
          "data": {
            "text/plain": [
              "<Figure size 640x480 with 1 Axes>"
            ],
            "image/png": "[encoded data removed]"
          },
          "metadata": {}
        }
      ]
    },
    {
      "cell_type": "markdown",
      "source": [
        "Hyperparameter Tuning"
      ],
      "metadata": {
        "id": "E2eeUgN_aY0x"
      }
    },
    {
      "cell_type": "code",
      "source": [
        "gc.collect()"
      ],
      "metadata": {
        "colab": {
          "base_uri": "https://localhost:8080/"
        },
        "id": "1UJg5vKMWDBX",
        "outputId": "42bbe289-2e70-423e-dfff-a897d4ad8c99"
      },
      "execution_count": 55,
      "outputs": [
        {
          "output_type": "execute_result",
          "data": {
            "text/plain": [
              "0"
            ]
          },
          "metadata": {},
          "execution_count": 55
        }
      ]
    },
    {
      "cell_type": "code",
      "source": [
        "from sklearn.model_selection import RandomizedSearchCV\n",
        "from sklearn.ensemble import RandomForestRegressor"
      ],
      "metadata": {
        "id": "T_Xhmrc_dzGu"
      },
      "execution_count": 58,
      "outputs": []
    },
    {
      "cell_type": "code",
      "source": [
        "rf_model = RandomForestRegressor(random_state=42)\n",
        "rf_param_grid = {\n",
        "    'n_estimators': [100, 200],\n",
        "    'max_depth': [3, 5],\n",
        "    'min_samples_split': [2, 10],\n",
        "    'min_samples_leaf': [1, 2],\n",
        "    'max_features': ['auto', 'sqrt']\n",
        "}"
      ],
      "metadata": {
        "id": "y9ccnMq3nA9U"
      },
      "execution_count": 59,
      "outputs": []
    },
    {
      "cell_type": "code",
      "source": [
        "random_search_rf = RandomizedSearchCV(\n",
        "    estimator=rf_model,\n",
        "    param_distributions=rf_param_grid,\n",
        "    n_iter=20,\n",
        "    scoring='neg_mean_squared_error',\n",
        "    cv=3,\n",
        "    verbose=1,\n",
        "    n_jobs=-1,\n",
        "    random_state=42\n",
        ")"
      ],
      "metadata": {
        "id": "-7nq-mKTnKtM"
      },
      "execution_count": 60,
      "outputs": []
    },
    {
      "cell_type": "code",
      "source": [
        "random_search_rf.fit(X_train_clean, y_train_clean) #take 35 minutes"
      ],
      "metadata": {
        "colab": {
          "base_uri": "https://localhost:8080/",
          "height": 183
        },
        "id": "pRSfj_IunPHV",
        "outputId": "f0b14f2e-1b12-4078-aa35-d48af2c8c5ee"
      },
      "execution_count": 61,
      "outputs": [
        {
          "output_type": "stream",
          "name": "stdout",
          "text": [
            "Fitting 3 folds for each of 20 candidates, totalling 60 fits\n"
          ]
        },
        {
          "output_type": "execute_result",
          "data": {
            "text/plain": [
              "RandomizedSearchCV(cv=3, estimator=RandomForestRegressor(random_state=42),\n",
              "                   n_iter=20, n_jobs=-1,\n",
              "                   param_distributions={'max_depth': [3, 5],\n",
              "                                        'max_features': ['auto', 'sqrt'],\n",
              "                                        'min_samples_leaf': [1, 2],\n",
              "                                        'min_samples_split': [2, 10],\n",
              "                                        'n_estimators': [100, 200]},\n",
              "                   random_state=42, scoring='neg_mean_squared_error',\n",
              "                   verbose=1)"
            ],
            "text/html": [
              "<style>#sk-container-id-1 {\n",
              "  /* Definition of color scheme common for light and dark mode */\n",
              "  --sklearn-color-text: #000;\n",
              "  --sklearn-color-text-muted: #666;\n",
              "  --sklearn-color-line: gray;\n",
              "  /* Definition of color scheme for unfitted estimators */\n",
              "  --sklearn-color-unfitted-level-0: #fff5e6;\n",
              "  --sklearn-color-unfitted-level-1: #f6e4d2;\n",
              "  --sklearn-color-unfitted-level-2: #ffe0b3;\n",
              "  --sklearn-color-unfitted-level-3: chocolate;\n",
              "  /* Definition of color scheme for fitted estimators */\n",
              "  --sklearn-color-fitted-level-0: #f0f8ff;\n",
              "  --sklearn-color-fitted-level-1: #d4ebff;\n",
              "  --sklearn-color-fitted-level-2: #b3dbfd;\n",
              "  --sklearn-color-fitted-level-3: cornflowerblue;\n",
              "\n",
              "  /* Specific color for light theme */\n",
              "  --sklearn-color-text-on-default-background: var(--sg-text-color, var(--theme-code-foreground, var(--jp-content-font-color1, black)));\n",
              "  --sklearn-color-background: var(--sg-background-color, var(--theme-background, var(--jp-layout-color0, white)));\n",
              "  --sklearn-color-border-box: var(--sg-text-color, var(--theme-code-foreground, var(--jp-content-font-color1, black)));\n",
              "  --sklearn-color-icon: #696969;\n",
              "\n",
              "  @media (prefers-color-scheme: dark) {\n",
              "    /* Redefinition of color scheme for dark theme */\n",
              "    --sklearn-color-text-on-default-background: var(--sg-text-color, var(--theme-code-foreground, var(--jp-content-font-color1, white)));\n",
              "    --sklearn-color-background: var(--sg-background-color, var(--theme-background, var(--jp-layout-color0, #111)));\n",
              "    --sklearn-color-border-box: var(--sg-text-color, var(--theme-code-foreground, var(--jp-content-font-color1, white)));\n",
              "    --sklearn-color-icon: #878787;\n",
              "  }\n",
              "}\n",
              "\n",
              "#sk-container-id-1 {\n",
              "  color: var(--sklearn-color-text);\n",
              "}\n",
              "\n",
              "#sk-container-id-1 pre {\n",
              "  padding: 0;\n",
              "}\n",
              "\n",
              "#sk-container-id-1 input.sk-hidden--visually {\n",
              "  border: 0;\n",
              "  clip: rect(1px 1px 1px 1px);\n",
              "  clip: rect(1px, 1px, 1px, 1px);\n",
              "  height: 1px;\n",
              "  margin: -1px;\n",
              "  overflow: hidden;\n",
              "  padding: 0;\n",
              "  position: absolute;\n",
              "  width: 1px;\n",
              "}\n",
              "\n",
              "#sk-container-id-1 div.sk-dashed-wrapped {\n",
              "  border: 1px dashed var(--sklearn-color-line);\n",
              "  margin: 0 0.4em 0.5em 0.4em;\n",
              "  box-sizing: border-box;\n",
              "  padding-bottom: 0.4em;\n",
              "  background-color: var(--sklearn-color-background);\n",
              "}\n",
              "\n",
              "#sk-container-id-1 div.sk-container {\n",
              "  /* jupyter's `normalize.less` sets `[hidden] { display: none; }`\n",
              "     but bootstrap.min.css set `[hidden] { display: none !important; }`\n",
              "     so we also need the `!important` here to be able to override the\n",
              "     default hidden behavior on the sphinx rendered scikit-learn.org.\n",
              "     See: https://github.com/scikit-learn/scikit-learn/issues/21755 */\n",
              "  display: inline-block !important;\n",
              "  position: relative;\n",
              "}\n",
              "\n",
              "#sk-container-id-1 div.sk-text-repr-fallback {\n",
              "  display: none;\n",
              "}\n",
              "\n",
              "div.sk-parallel-item,\n",
              "div.sk-serial,\n",
              "div.sk-item {\n",
              "  /* draw centered vertical line to link estimators */\n",
              "  background-image: linear-gradient(var(--sklearn-color-text-on-default-background), var(--sklearn-color-text-on-default-background));\n",
              "  background-size: 2px 100%;\n",
              "  background-repeat: no-repeat;\n",
              "  background-position: center center;\n",
              "}\n",
              "\n",
              "/* Parallel-specific style estimator block */\n",
              "\n",
              "#sk-container-id-1 div.sk-parallel-item::after {\n",
              "  content: \"\";\n",
              "  width: 100%;\n",
              "  border-bottom: 2px solid var(--sklearn-color-text-on-default-background);\n",
              "  flex-grow: 1;\n",
              "}\n",
              "\n",
              "#sk-container-id-1 div.sk-parallel {\n",
              "  display: flex;\n",
              "  align-items: stretch;\n",
              "  justify-content: center;\n",
              "  background-color: var(--sklearn-color-background);\n",
              "  position: relative;\n",
              "}\n",
              "\n",
              "#sk-container-id-1 div.sk-parallel-item {\n",
              "  display: flex;\n",
              "  flex-direction: column;\n",
              "}\n",
              "\n",
              "#sk-container-id-1 div.sk-parallel-item:first-child::after {\n",
              "  align-self: flex-end;\n",
              "  width: 50%;\n",
              "}\n",
              "\n",
              "#sk-container-id-1 div.sk-parallel-item:last-child::after {\n",
              "  align-self: flex-start;\n",
              "  width: 50%;\n",
              "}\n",
              "\n",
              "#sk-container-id-1 div.sk-parallel-item:only-child::after {\n",
              "  width: 0;\n",
              "}\n",
              "\n",
              "/* Serial-specific style estimator block */\n",
              "\n",
              "#sk-container-id-1 div.sk-serial {\n",
              "  display: flex;\n",
              "  flex-direction: column;\n",
              "  align-items: center;\n",
              "  background-color: var(--sklearn-color-background);\n",
              "  padding-right: 1em;\n",
              "  padding-left: 1em;\n",
              "}\n",
              "\n",
              "\n",
              "/* Toggleable style: style used for estimator/Pipeline/ColumnTransformer box that is\n",
              "clickable and can be expanded/collapsed.\n",
              "- Pipeline and ColumnTransformer use this feature and define the default style\n",
              "- Estimators will overwrite some part of the style using the `sk-estimator` class\n",
              "*/\n",
              "\n",
              "/* Pipeline and ColumnTransformer style (default) */\n",
              "\n",
              "#sk-container-id-1 div.sk-toggleable {\n",
              "  /* Default theme specific background. It is overwritten whether we have a\n",
              "  specific estimator or a Pipeline/ColumnTransformer */\n",
              "  background-color: var(--sklearn-color-background);\n",
              "}\n",
              "\n",
              "/* Toggleable label */\n",
              "#sk-container-id-1 label.sk-toggleable__label {\n",
              "  cursor: pointer;\n",
              "  display: flex;\n",
              "  width: 100%;\n",
              "  margin-bottom: 0;\n",
              "  padding: 0.5em;\n",
              "  box-sizing: border-box;\n",
              "  text-align: center;\n",
              "  align-items: start;\n",
              "  justify-content: space-between;\n",
              "  gap: 0.5em;\n",
              "}\n",
              "\n",
              "#sk-container-id-1 label.sk-toggleable__label .caption {\n",
              "  font-size: 0.6rem;\n",
              "  font-weight: lighter;\n",
              "  color: var(--sklearn-color-text-muted);\n",
              "}\n",
              "\n",
              "#sk-container-id-1 label.sk-toggleable__label-arrow:before {\n",
              "  /* Arrow on the left of the label */\n",
              "  content: \"▸\";\n",
              "  float: left;\n",
              "  margin-right: 0.25em;\n",
              "  color: var(--sklearn-color-icon);\n",
              "}\n",
              "\n",
              "#sk-container-id-1 label.sk-toggleable__label-arrow:hover:before {\n",
              "  color: var(--sklearn-color-text);\n",
              "}\n",
              "\n",
              "/* Toggleable content - dropdown */\n",
              "\n",
              "#sk-container-id-1 div.sk-toggleable__content {\n",
              "  max-height: 0;\n",
              "  max-width: 0;\n",
              "  overflow: hidden;\n",
              "  text-align: left;\n",
              "  /* unfitted */\n",
              "  background-color: var(--sklearn-color-unfitted-level-0);\n",
              "}\n",
              "\n",
              "#sk-container-id-1 div.sk-toggleable__content.fitted {\n",
              "  /* fitted */\n",
              "  background-color: var(--sklearn-color-fitted-level-0);\n",
              "}\n",
              "\n",
              "#sk-container-id-1 div.sk-toggleable__content pre {\n",
              "  margin: 0.2em;\n",
              "  border-radius: 0.25em;\n",
              "  color: var(--sklearn-color-text);\n",
              "  /* unfitted */\n",
              "  background-color: var(--sklearn-color-unfitted-level-0);\n",
              "}\n",
              "\n",
              "#sk-container-id-1 div.sk-toggleable__content.fitted pre {\n",
              "  /* unfitted */\n",
              "  background-color: var(--sklearn-color-fitted-level-0);\n",
              "}\n",
              "\n",
              "#sk-container-id-1 input.sk-toggleable__control:checked~div.sk-toggleable__content {\n",
              "  /* Expand drop-down */\n",
              "  max-height: 200px;\n",
              "  max-width: 100%;\n",
              "  overflow: auto;\n",
              "}\n",
              "\n",
              "#sk-container-id-1 input.sk-toggleable__control:checked~label.sk-toggleable__label-arrow:before {\n",
              "  content: \"▾\";\n",
              "}\n",
              "\n",
              "/* Pipeline/ColumnTransformer-specific style */\n",
              "\n",
              "#sk-container-id-1 div.sk-label input.sk-toggleable__control:checked~label.sk-toggleable__label {\n",
              "  color: var(--sklearn-color-text);\n",
              "  background-color: var(--sklearn-color-unfitted-level-2);\n",
              "}\n",
              "\n",
              "#sk-container-id-1 div.sk-label.fitted input.sk-toggleable__control:checked~label.sk-toggleable__label {\n",
              "  background-color: var(--sklearn-color-fitted-level-2);\n",
              "}\n",
              "\n",
              "/* Estimator-specific style */\n",
              "\n",
              "/* Colorize estimator box */\n",
              "#sk-container-id-1 div.sk-estimator input.sk-toggleable__control:checked~label.sk-toggleable__label {\n",
              "  /* unfitted */\n",
              "  background-color: var(--sklearn-color-unfitted-level-2);\n",
              "}\n",
              "\n",
              "#sk-container-id-1 div.sk-estimator.fitted input.sk-toggleable__control:checked~label.sk-toggleable__label {\n",
              "  /* fitted */\n",
              "  background-color: var(--sklearn-color-fitted-level-2);\n",
              "}\n",
              "\n",
              "#sk-container-id-1 div.sk-label label.sk-toggleable__label,\n",
              "#sk-container-id-1 div.sk-label label {\n",
              "  /* The background is the default theme color */\n",
              "  color: var(--sklearn-color-text-on-default-background);\n",
              "}\n",
              "\n",
              "/* On hover, darken the color of the background */\n",
              "#sk-container-id-1 div.sk-label:hover label.sk-toggleable__label {\n",
              "  color: var(--sklearn-color-text);\n",
              "  background-color: var(--sklearn-color-unfitted-level-2);\n",
              "}\n",
              "\n",
              "/* Label box, darken color on hover, fitted */\n",
              "#sk-container-id-1 div.sk-label.fitted:hover label.sk-toggleable__label.fitted {\n",
              "  color: var(--sklearn-color-text);\n",
              "  background-color: var(--sklearn-color-fitted-level-2);\n",
              "}\n",
              "\n",
              "/* Estimator label */\n",
              "\n",
              "#sk-container-id-1 div.sk-label label {\n",
              "  font-family: monospace;\n",
              "  font-weight: bold;\n",
              "  display: inline-block;\n",
              "  line-height: 1.2em;\n",
              "}\n",
              "\n",
              "#sk-container-id-1 div.sk-label-container {\n",
              "  text-align: center;\n",
              "}\n",
              "\n",
              "/* Estimator-specific */\n",
              "#sk-container-id-1 div.sk-estimator {\n",
              "  font-family: monospace;\n",
              "  border: 1px dotted var(--sklearn-color-border-box);\n",
              "  border-radius: 0.25em;\n",
              "  box-sizing: border-box;\n",
              "  margin-bottom: 0.5em;\n",
              "  /* unfitted */\n",
              "  background-color: var(--sklearn-color-unfitted-level-0);\n",
              "}\n",
              "\n",
              "#sk-container-id-1 div.sk-estimator.fitted {\n",
              "  /* fitted */\n",
              "  background-color: var(--sklearn-color-fitted-level-0);\n",
              "}\n",
              "\n",
              "/* on hover */\n",
              "#sk-container-id-1 div.sk-estimator:hover {\n",
              "  /* unfitted */\n",
              "  background-color: var(--sklearn-color-unfitted-level-2);\n",
              "}\n",
              "\n",
              "#sk-container-id-1 div.sk-estimator.fitted:hover {\n",
              "  /* fitted */\n",
              "  background-color: var(--sklearn-color-fitted-level-2);\n",
              "}\n",
              "\n",
              "/* Specification for estimator info (e.g. \"i\" and \"?\") */\n",
              "\n",
              "/* Common style for \"i\" and \"?\" */\n",
              "\n",
              ".sk-estimator-doc-link,\n",
              "a:link.sk-estimator-doc-link,\n",
              "a:visited.sk-estimator-doc-link {\n",
              "  float: right;\n",
              "  font-size: smaller;\n",
              "  line-height: 1em;\n",
              "  font-family: monospace;\n",
              "  background-color: var(--sklearn-color-background);\n",
              "  border-radius: 1em;\n",
              "  height: 1em;\n",
              "  width: 1em;\n",
              "  text-decoration: none !important;\n",
              "  margin-left: 0.5em;\n",
              "  text-align: center;\n",
              "  /* unfitted */\n",
              "  border: var(--sklearn-color-unfitted-level-1) 1pt solid;\n",
              "  color: var(--sklearn-color-unfitted-level-1);\n",
              "}\n",
              "\n",
              ".sk-estimator-doc-link.fitted,\n",
              "a:link.sk-estimator-doc-link.fitted,\n",
              "a:visited.sk-estimator-doc-link.fitted {\n",
              "  /* fitted */\n",
              "  border: var(--sklearn-color-fitted-level-1) 1pt solid;\n",
              "  color: var(--sklearn-color-fitted-level-1);\n",
              "}\n",
              "\n",
              "/* On hover */\n",
              "div.sk-estimator:hover .sk-estimator-doc-link:hover,\n",
              ".sk-estimator-doc-link:hover,\n",
              "div.sk-label-container:hover .sk-estimator-doc-link:hover,\n",
              ".sk-estimator-doc-link:hover {\n",
              "  /* unfitted */\n",
              "  background-color: var(--sklearn-color-unfitted-level-3);\n",
              "  color: var(--sklearn-color-background);\n",
              "  text-decoration: none;\n",
              "}\n",
              "\n",
              "div.sk-estimator.fitted:hover .sk-estimator-doc-link.fitted:hover,\n",
              ".sk-estimator-doc-link.fitted:hover,\n",
              "div.sk-label-container:hover .sk-estimator-doc-link.fitted:hover,\n",
              ".sk-estimator-doc-link.fitted:hover {\n",
              "  /* fitted */\n",
              "  background-color: var(--sklearn-color-fitted-level-3);\n",
              "  color: var(--sklearn-color-background);\n",
              "  text-decoration: none;\n",
              "}\n",
              "\n",
              "/* Span, style for the box shown on hovering the info icon */\n",
              ".sk-estimator-doc-link span {\n",
              "  display: none;\n",
              "  z-index: 9999;\n",
              "  position: relative;\n",
              "  font-weight: normal;\n",
              "  right: .2ex;\n",
              "  padding: .5ex;\n",
              "  margin: .5ex;\n",
              "  width: min-content;\n",
              "  min-width: 20ex;\n",
              "  max-width: 50ex;\n",
              "  color: var(--sklearn-color-text);\n",
              "  box-shadow: 2pt 2pt 4pt #999;\n",
              "  /* unfitted */\n",
              "  background: var(--sklearn-color-unfitted-level-0);\n",
              "  border: .5pt solid var(--sklearn-color-unfitted-level-3);\n",
              "}\n",
              "\n",
              ".sk-estimator-doc-link.fitted span {\n",
              "  /* fitted */\n",
              "  background: var(--sklearn-color-fitted-level-0);\n",
              "  border: var(--sklearn-color-fitted-level-3);\n",
              "}\n",
              "\n",
              ".sk-estimator-doc-link:hover span {\n",
              "  display: block;\n",
              "}\n",
              "\n",
              "/* \"?\"-specific style due to the `<a>` HTML tag */\n",
              "\n",
              "#sk-container-id-1 a.estimator_doc_link {\n",
              "  float: right;\n",
              "  font-size: 1rem;\n",
              "  line-height: 1em;\n",
              "  font-family: monospace;\n",
              "  background-color: var(--sklearn-color-background);\n",
              "  border-radius: 1rem;\n",
              "  height: 1rem;\n",
              "  width: 1rem;\n",
              "  text-decoration: none;\n",
              "  /* unfitted */\n",
              "  color: var(--sklearn-color-unfitted-level-1);\n",
              "  border: var(--sklearn-color-unfitted-level-1) 1pt solid;\n",
              "}\n",
              "\n",
              "#sk-container-id-1 a.estimator_doc_link.fitted {\n",
              "  /* fitted */\n",
              "  border: var(--sklearn-color-fitted-level-1) 1pt solid;\n",
              "  color: var(--sklearn-color-fitted-level-1);\n",
              "}\n",
              "\n",
              "/* On hover */\n",
              "#sk-container-id-1 a.estimator_doc_link:hover {\n",
              "  /* unfitted */\n",
              "  background-color: var(--sklearn-color-unfitted-level-3);\n",
              "  color: var(--sklearn-color-background);\n",
              "  text-decoration: none;\n",
              "}\n",
              "\n",
              "#sk-container-id-1 a.estimator_doc_link.fitted:hover {\n",
              "  /* fitted */\n",
              "  background-color: var(--sklearn-color-fitted-level-3);\n",
              "}\n",
              "</style><div id=\"sk-container-id-1\" class=\"sk-top-container\"><div class=\"sk-text-repr-fallback\"><pre>RandomizedSearchCV(cv=3, estimator=RandomForestRegressor(random_state=42),\n",
              "                   n_iter=20, n_jobs=-1,\n",
              "                   param_distributions={&#x27;max_depth&#x27;: [3, 5],\n",
              "                                        &#x27;max_features&#x27;: [&#x27;auto&#x27;, &#x27;sqrt&#x27;],\n",
              "                                        &#x27;min_samples_leaf&#x27;: [1, 2],\n",
              "                                        &#x27;min_samples_split&#x27;: [2, 10],\n",
              "                                        &#x27;n_estimators&#x27;: [100, 200]},\n",
              "                   random_state=42, scoring=&#x27;neg_mean_squared_error&#x27;,\n",
              "                   verbose=1)</pre><b>In a Jupyter environment, please rerun this cell to show the HTML representation or trust the notebook. <br />On GitHub, the HTML representation is unable to render, please try loading this page with nbviewer.org.</b></div><div class=\"sk-container\" hidden><div class=\"sk-item sk-dashed-wrapped\"><div class=\"sk-label-container\"><div class=\"sk-label fitted sk-toggleable\"><input class=\"sk-toggleable__control sk-hidden--visually\" id=\"sk-estimator-id-1\" type=\"checkbox\" ><label for=\"sk-estimator-id-1\" class=\"sk-toggleable__label fitted sk-toggleable__label-arrow\"><div><div>RandomizedSearchCV</div></div><div><a class=\"sk-estimator-doc-link fitted\" rel=\"noreferrer\" target=\"_blank\" href=\"https://scikit-learn.org/1.6/modules/generated/sklearn.model_selection.RandomizedSearchCV.html\">?<span>Documentation for RandomizedSearchCV</span></a><span class=\"sk-estimator-doc-link fitted\">i<span>Fitted</span></span></div></label><div class=\"sk-toggleable__content fitted\"><pre>RandomizedSearchCV(cv=3, estimator=RandomForestRegressor(random_state=42),\n",
              "                   n_iter=20, n_jobs=-1,\n",
              "                   param_distributions={&#x27;max_depth&#x27;: [3, 5],\n",
              "                                        &#x27;max_features&#x27;: [&#x27;auto&#x27;, &#x27;sqrt&#x27;],\n",
              "                                        &#x27;min_samples_leaf&#x27;: [1, 2],\n",
              "                                        &#x27;min_samples_split&#x27;: [2, 10],\n",
              "                                        &#x27;n_estimators&#x27;: [100, 200]},\n",
              "                   random_state=42, scoring=&#x27;neg_mean_squared_error&#x27;,\n",
              "                   verbose=1)</pre></div> </div></div><div class=\"sk-parallel\"><div class=\"sk-parallel-item\"><div class=\"sk-item\"><div class=\"sk-label-container\"><div class=\"sk-label fitted sk-toggleable\"><input class=\"sk-toggleable__control sk-hidden--visually\" id=\"sk-estimator-id-2\" type=\"checkbox\" ><label for=\"sk-estimator-id-2\" class=\"sk-toggleable__label fitted sk-toggleable__label-arrow\"><div><div>best_estimator_: RandomForestRegressor</div></div></label><div class=\"sk-toggleable__content fitted\"><pre>RandomForestRegressor(max_depth=5, max_features=&#x27;sqrt&#x27;, min_samples_split=10,\n",
              "                      random_state=42)</pre></div> </div></div><div class=\"sk-serial\"><div class=\"sk-item\"><div class=\"sk-estimator fitted sk-toggleable\"><input class=\"sk-toggleable__control sk-hidden--visually\" id=\"sk-estimator-id-3\" type=\"checkbox\" ><label for=\"sk-estimator-id-3\" class=\"sk-toggleable__label fitted sk-toggleable__label-arrow\"><div><div>RandomForestRegressor</div></div><div><a class=\"sk-estimator-doc-link fitted\" rel=\"noreferrer\" target=\"_blank\" href=\"https://scikit-learn.org/1.6/modules/generated/sklearn.ensemble.RandomForestRegressor.html\">?<span>Documentation for RandomForestRegressor</span></a></div></label><div class=\"sk-toggleable__content fitted\"><pre>RandomForestRegressor(max_depth=5, max_features=&#x27;sqrt&#x27;, min_samples_split=10,\n",
              "                      random_state=42)</pre></div> </div></div></div></div></div></div></div></div></div>"
            ]
          },
          "metadata": {},
          "execution_count": 61
        }
      ]
    },
    {
      "cell_type": "markdown",
      "source": [
        "best_estimator_:\n",
        "RandomForestRegressor(max_depth=5, max_features='sqrt', min_samples_split=10,\n",
        "                      random_state=42)"
      ],
      "metadata": {
        "id": "6f4YGxgfwqrI"
      }
    },
    {
      "cell_type": "code",
      "source": [
        "best_rf_model = RandomForestRegressor(\n",
        "    max_depth=5,\n",
        "    max_features='sqrt',\n",
        "    min_samples_split=10,\n",
        "    random_state=42\n",
        ")\n",
        "best_rf_model.fit(X_train_clean, y_train_log)\n",
        "rf_result = evaluate_model(\n",
        "    best_rf_model,\n",
        "    X_train_clean,\n",
        "    X_val_clean,\n",
        "    y_train_log,\n",
        "    y_val_log,\n",
        "    \"Tuned Random Forest (VIF Reduced, Log Target)\"\n",
        ")\n",
        "model_results['Tuned Random Forest (VIF Reduced, Log Target)'] = rf_result"
      ],
      "metadata": {
        "colab": {
          "base_uri": "https://localhost:8080/"
        },
        "id": "6kF-f2BlwGW_",
        "outputId": "ecbd4ab4-e61d-4970-bf25-a997ed102f32"
      },
      "execution_count": 64,
      "outputs": [
        {
          "output_type": "stream",
          "name": "stdout",
          "text": [
            "\n",
            "Tuned Random Forest (VIF Reduced, Log Target) Evaluation on Validation Set:\n",
            "RMSE: 1.0828\n",
            "MAE: 0.8708\n",
            "R²: 0.7608\n",
            "Training Time: 93.85 seconds\n",
            "Inference Time: 2.06 seconds\n"
          ]
        }
      ]
    },
    {
      "cell_type": "code",
      "source": [
        "gc.collect()"
      ],
      "metadata": {
        "colab": {
          "base_uri": "https://localhost:8080/"
        },
        "id": "eZpbatUbf1dJ",
        "outputId": "493adb83-f123-4a07-bb98-37854a10eeb1"
      },
      "execution_count": 63,
      "outputs": [
        {
          "output_type": "execute_result",
          "data": {
            "text/plain": [
              "122"
            ]
          },
          "metadata": {},
          "execution_count": 63
        }
      ]
    },
    {
      "cell_type": "code",
      "source": [
        "from lightgbm import LGBMRegressor\n",
        "from sklearn.model_selection import RandomizedSearchCV\n",
        "lgb_model = LGBMRegressor(random_state=42)\n",
        "lgb_param_grid = {\n",
        "    'n_estimators': [100, 200, 300],\n",
        "    'learning_rate': [0.01, 0.05, 0.1],\n",
        "    'max_depth': [-1, 5, 10],\n",
        "    'num_leaves': [31, 50, 70],\n",
        "    'subsample': [0.8, 1.0],\n",
        "    'colsample_bytree': [0.8, 1.0]\n",
        "}"
      ],
      "metadata": {
        "id": "hXpZ5_Xe1GjI"
      },
      "execution_count": 70,
      "outputs": []
    },
    {
      "cell_type": "code",
      "source": [
        "random_search_lgb = RandomizedSearchCV(\n",
        "    estimator=lgb_model,\n",
        "    param_distributions=lgb_param_grid,\n",
        "    n_iter=20,\n",
        "    scoring='neg_mean_squared_error',\n",
        "    cv=3,\n",
        "    verbose=1,\n",
        "    n_jobs=-1,\n",
        "    random_state=42\n",
        ")\n",
        "random_search_lgb.fit(X_train_clean, y_train_clean) #take 25 minutes\n",
        "print(\"Best Hyperparameters for LightGBM:\", random_search_lgb.best_params_)"
      ],
      "metadata": {
        "id": "KveTvlvJ1J4o"
      },
      "execution_count": null,
      "outputs": []
    },
    {
      "cell_type": "code",
      "source": [
        "best_lgb_model = LGBMRegressor(\n",
        "    subsample=0.8,\n",
        "    num_leaves=70,\n",
        "    n_estimators=300,\n",
        "    max_depth=-1,\n",
        "    learning_rate=0.1,\n",
        "    colsample_bytree=0.8,\n",
        "    random_state=42\n",
        ")\n",
        "best_lgb_model.fit(X_train_clean, y_train_clean)\n",
        "lgb_result = evaluate_model(\n",
        "    best_lgb_model,\n",
        "    X_train_clean,\n",
        "    X_val_clean,\n",
        "    y_train_clean,\n",
        "    y_val_clean,\n",
        "    \"Tuned LightGBM (VIF Reduced, Log Target)\"\n",
        ")\n",
        "model_results[\"Tuned LightGBM (VIF Reduced, Log Target)\"] = lgb_result"
      ],
      "metadata": {
        "colab": {
          "base_uri": "https://localhost:8080/"
        },
        "id": "7umHDRqu8JCU",
        "outputId": "e6f96852-e687-41fc-a72f-6bd90dff5ada"
      },
      "execution_count": 72,
      "outputs": [
        {
          "output_type": "stream",
          "name": "stdout",
          "text": [
            "\n",
            "Tuned LightGBM (VIF Reduced, Log Target) Evaluation on Validation Set:\n",
            "RMSE: 0.3227\n",
            "MAE: 0.2335\n",
            "R²: 0.9788\n",
            "Training Time: 43.88 seconds\n",
            "Inference Time: 10.46 seconds\n"
          ]
        }
      ]
    },
    {
      "cell_type": "code",
      "source": [
        "label_encoder = LabelEncoder()\n",
        "label_encoder.fit(X_train['family'])\n",
        "X_test['family'] = label_encoder.transform(X_test['family'])"
      ],
      "metadata": {
        "id": "u4-Vyj9UEwG2"
      },
      "execution_count": 76,
      "outputs": []
    },
    {
      "cell_type": "code",
      "source": [
        "X_train_clean = pd.get_dummies(X_train, drop_first=True)\n",
        "X_val_clean = pd.get_dummies(X_val, drop_first=True)\n",
        "X_test_clean = pd.get_dummies(X_test, drop_first=True)"
      ],
      "metadata": {
        "id": "gKqj1Z5nE3hl"
      },
      "execution_count": 77,
      "outputs": []
    },
    {
      "cell_type": "code",
      "source": [
        "Q1 = X_train['transactions'].quantile(0.25)\n",
        "Q3 = X_train['transactions'].quantile(0.75)\n",
        "IQR = Q3 - Q1\n",
        "min_limit = Q1 - 1.5 * IQR\n",
        "max_limit = Q3 + 1.5 * IQR\n",
        "X_train['transactions'] = X_train['transactions'].clip(lower=min_limit, upper=max_limit)\n",
        "X_test['transactions'] = X_test['transactions'].clip(lower=min_limit, upper=max_limit)"
      ],
      "metadata": {
        "id": "35YQT6HYFYfa"
      },
      "execution_count": 79,
      "outputs": []
    },
    {
      "cell_type": "code",
      "source": [
        "X_train['transactions'] = X_train['transactions'].clip(lower=min_limit, upper=max_limit)\n",
        "X_test['transactions'] = X_test['transactions'].clip(lower=min_limit, upper=max_limit)"
      ],
      "metadata": {
        "id": "vXxGu7OME7Ud"
      },
      "execution_count": 80,
      "outputs": []
    },
    {
      "cell_type": "code",
      "source": [
        "X_test_clean = X_test_clean.drop(columns=['year', 'month', 'day', 'quarter', 'days_in_month', 'day_of_year', 'week_of_year'])"
      ],
      "metadata": {
        "id": "7flXAjFQFhLT"
      },
      "execution_count": 81,
      "outputs": []
    },
    {
      "cell_type": "code",
      "source": [
        "y_test_clean = np.log1p(y_test)"
      ],
      "metadata": {
        "id": "B3frQhCvFjDT"
      },
      "execution_count": 82,
      "outputs": []
    },
    {
      "cell_type": "code",
      "source": [
        "X_test_clean = X_test_clean.fillna(X_test_clean.mean())\n",
        "X_test_clean = X_test_clean.apply(lambda col: col.fillna(col.mode()[0]) if col.dtypes == 'object' else col)"
      ],
      "metadata": {
        "id": "aQXcgePfGG8x"
      },
      "execution_count": 88,
      "outputs": []
    },
    {
      "cell_type": "code",
      "source": [
        "X_test_clean = X_test_clean.dropna()"
      ],
      "metadata": {
        "id": "RG9XA6QCHI0P"
      },
      "execution_count": 89,
      "outputs": []
    },
    {
      "cell_type": "code",
      "source": [
        "y_test_clean = y_test_clean.fillna(y_test_clean.mean())"
      ],
      "metadata": {
        "id": "537E0E-qHtVm"
      },
      "execution_count": 93,
      "outputs": []
    },
    {
      "cell_type": "code",
      "source": [
        "y_test_clean = y_test_clean.replace([np.inf, -np.inf], np.nan).fillna(0)\n",
        "y_test_pred = np.clip(y_test_pred, -1e10, 1e10)"
      ],
      "metadata": {
        "id": "hgT7AzdyImb7"
      },
      "execution_count": 95,
      "outputs": []
    },
    {
      "cell_type": "code",
      "source": [
        "y_test_pred = best_lgb_model.predict(X_test_clean)\n",
        "rmse = np.sqrt(mean_squared_error(y_test_clean, y_test_pred))\n",
        "mae = mean_absolute_error(y_test_clean, y_test_pred)\n",
        "r2 = r2_score(y_test_clean, y_test_pred)\n",
        "print(f\"RMSE: {rmse}\")\n",
        "print(f\"MAE: {mae}\")\n",
        "print(f\"R²: {r2}\")"
      ],
      "metadata": {
        "colab": {
          "base_uri": "https://localhost:8080/"
        },
        "id": "zEmkZTnX-TuC",
        "outputId": "d0343c22-ffb3-44ca-ce6f-3f3bf5f82638"
      },
      "execution_count": 96,
      "outputs": [
        {
          "output_type": "stream",
          "name": "stdout",
          "text": [
            "RMSE: 0.32425450225689467\n",
            "MAE: 0.23386234535730055\n",
            "R²: 0.9785504402149149\n"
          ]
        }
      ]
    },
    {
      "cell_type": "code",
      "source": [
        "y_train_clean_df = pd.DataFrame(y_train_clean)\n",
        "y_test_clean_df = pd.DataFrame(y_test_clean)\n",
        "y_train_clean_df.to_parquet('y_train_clean.parquet', index=False)\n",
        "y_test_clean_df.to_parquet('y_test_clean.parquet', index=False)"
      ],
      "metadata": {
        "id": "23zedcUJLOCb"
      },
      "execution_count": 98,
      "outputs": []
    },
    {
      "cell_type": "code",
      "source": [
        "X_val_clean.to_parquet('X_val_clean.parquet', index=False)\n",
        "y_val_clean_df = y_val_clean.to_frame()\n",
        "y_val_clean_df.to_parquet('y_val_clean.parquet', index=False)"
      ],
      "metadata": {
        "id": "VSITwlNbP1po"
      },
      "execution_count": 102,
      "outputs": []
    },
    {
      "cell_type": "code",
      "source": [
        "import joblib\n",
        "joblib.dump(best_lgb_model, 'final_lgbm_model.pkl')"
      ],
      "metadata": {
        "colab": {
          "base_uri": "https://localhost:8080/"
        },
        "id": "q1wdf-MLLwtb",
        "outputId": "29df6999-29fd-49ea-f840-ed672908d985"
      },
      "execution_count": 100,
      "outputs": [
        {
          "output_type": "execute_result",
          "data": {
            "text/plain": [
              "['final_lgbm_model.pkl']"
            ]
          },
          "metadata": {},
          "execution_count": 100
        }
      ]
    }
  ]
}